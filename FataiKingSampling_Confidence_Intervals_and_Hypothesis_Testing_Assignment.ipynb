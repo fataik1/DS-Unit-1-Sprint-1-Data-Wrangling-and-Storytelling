{
  "nbformat": 4,
  "nbformat_minor": 0,
  "metadata": {
    "colab": {
      "name": "FataiKingSampling_Confidence_Intervals_and_Hypothesis_Testing_Assignment.ipynb",
      "provenance": [],
      "collapsed_sections": [
        "4ohsJhQUmEuS",
        "nyJ3ySr7R2k9"
      ],
      "toc_visible": true,
      "include_colab_link": true
    },
    "kernelspec": {
      "name": "python3",
      "display_name": "Python 3"
    }
  },
  "cells": [
    {
      "cell_type": "markdown",
      "metadata": {
        "id": "view-in-github",
        "colab_type": "text"
      },
      "source": [
        "<a href=\"https://colab.research.google.com/github/fataik1/DS-Unit-1-Sprint-1-Data-Wrangling-and-Storytelling/blob/master/FataiKingSampling_Confidence_Intervals_and_Hypothesis_Testing_Assignment.ipynb\" target=\"_parent\"><img src=\"https://colab.research.google.com/assets/colab-badge.svg\" alt=\"Open In Colab\"/></a>"
      ]
    },
    {
      "cell_type": "markdown",
      "metadata": {
        "id": "11OzdxWTM7UR",
        "colab_type": "text"
      },
      "source": [
        "## Assignment - Build a confidence interval\n",
        "\n",
        "A confidence interval refers to a neighborhood around some point estimate, the size of which is determined by the desired p-value. For instance, we might say that 52% of Americans prefer tacos to burritos, with a 95% confidence interval of +/- 5%.\n",
        "\n",
        "52% (0.52) is the point estimate, and +/- 5% (the interval $[0.47, 0.57]$) is the confidence interval. \"95% confidence\" means a p-value $\\leq 1 - 0.95 = 0.05$.\n",
        "\n",
        "In this case, the confidence interval includes $0.5$ - which is the natural null hypothesis (that half of Americans prefer tacos and half burritos, thus there is no clear favorite). So in this case, we could use the confidence interval to report that we've failed to reject the null hypothesis.\n",
        "\n",
        "But providing the full analysis with a confidence interval, including a graphical representation of it, can be a helpful and powerful way to tell your story. Done well, it is also more intuitive to a layperson than simply saying \"fail to reject the null hypothesis\" - it shows that in fact the data does *not* give a single clear result (the point estimate) but a whole range of possibilities.\n",
        "\n",
        "How is a confidence interval built, and how should it be interpreted? It does *not* mean that 95% of the data lies in that interval - instead, the frequentist interpretation is \"if we were to repeat this experiment 100 times, we would expect the average result to lie in this interval ~95 times.\"\n",
        "\n",
        "For a 95% confidence interval and a normal(-ish) distribution, you can simply remember that +/-2 standard deviations contains 95% of the probability mass, and so the 95% confidence interval based on a given sample is centered at the mean (point estimate) and has a range of +/- 2 (or technically 1.96) standard deviations.\n",
        "\n",
        "Different distributions/assumptions (90% confidence, 99% confidence) will require different math, but the overall process and interpretation (with a frequentist approach) will be the same.\n",
        "\n",
        "Your assignment - using the data from the prior module ([congressional voting records](https://archive.ics.uci.edu/ml/datasets/Congressional+Voting+Records)):\n",
        "\n",
        "\n",
        "### Confidence Intervals:\n",
        "1. Generate and numerically represent a confidence interval\n",
        "2. Graphically (with a plot) represent the confidence interval\n",
        "3. Interpret the confidence interval - what does it tell you about the data and its distribution?\n",
        "\n",
        "### Chi-squared tests:\n",
        "4. Take a dataset that we have used in the past in class that has **categorical** variables. Pick two of those categorical variables and run a chi-squared tests on that data\n",
        "  - By hand using Numpy\n",
        "  - In a single line using Scipy\n"
      ]
    },
    {
      "cell_type": "code",
      "metadata": {
        "id": "VLYPo0HKVyUk",
        "colab_type": "code",
        "colab": {}
      },
      "source": [
        "import numpy as np\n",
        "import scipy.stats\n",
        "\n",
        "\n",
        "def mean_confidence_interval(data, confidence=0.95):\n",
        "    a = 1.0 * np.array(data)\n",
        "    n = len(a)\n",
        "    m, se = np.mean(a), scipy.stats.sem(a)\n",
        "    h = se * scipy.stats.t.ppf((1 + confidence) / 2., n-1)\n",
        "    return m, m-h, m+h"
      ],
      "execution_count": 0,
      "outputs": []
    },
    {
      "cell_type": "code",
      "metadata": {
        "id": "Ckcr4A4FM7cs",
        "colab_type": "code",
        "outputId": "10a93b4a-165a-4c70-947b-d7849674857a",
        "colab": {
          "base_uri": "https://localhost:8080/",
          "height": 258
        }
      },
      "source": [
        "# TODO - your code!\n",
        "import numpy as np\n",
        "import pandas as pd\n",
        "import scipy.stats\n",
        "\n",
        "\n",
        "\n",
        "df = pd.read_csv('house-votes-84.data', names = ['party', 'handicapped-infants', 'water-project', 'budget',\n",
        "                                                 'physician-fee-freeze', 'el-salvador-aid', 'religious-groups', 'anti-satellite-ban',\n",
        "                                                 'aid-to-contras', 'mx-missle', 'immigration', 'synfuels', \n",
        "                                                 'education', 'right-to-sue' ,'crime', 'duty-free', 'south-africa'])\n",
        "\n",
        "df.head()"
      ],
      "execution_count": 70,
      "outputs": [
        {
          "output_type": "execute_result",
          "data": {
            "text/html": [
              "<div>\n",
              "<style scoped>\n",
              "    .dataframe tbody tr th:only-of-type {\n",
              "        vertical-align: middle;\n",
              "    }\n",
              "\n",
              "    .dataframe tbody tr th {\n",
              "        vertical-align: top;\n",
              "    }\n",
              "\n",
              "    .dataframe thead th {\n",
              "        text-align: right;\n",
              "    }\n",
              "</style>\n",
              "<table border=\"1\" class=\"dataframe\">\n",
              "  <thead>\n",
              "    <tr style=\"text-align: right;\">\n",
              "      <th></th>\n",
              "      <th>party</th>\n",
              "      <th>handicapped-infants</th>\n",
              "      <th>water-project</th>\n",
              "      <th>budget</th>\n",
              "      <th>physician-fee-freeze</th>\n",
              "      <th>el-salvador-aid</th>\n",
              "      <th>religious-groups</th>\n",
              "      <th>anti-satellite-ban</th>\n",
              "      <th>aid-to-contras</th>\n",
              "      <th>mx-missle</th>\n",
              "      <th>immigration</th>\n",
              "      <th>synfuels</th>\n",
              "      <th>education</th>\n",
              "      <th>right-to-sue</th>\n",
              "      <th>crime</th>\n",
              "      <th>duty-free</th>\n",
              "      <th>south-africa</th>\n",
              "    </tr>\n",
              "  </thead>\n",
              "  <tbody>\n",
              "    <tr>\n",
              "      <th>0</th>\n",
              "      <td>republican</td>\n",
              "      <td>n</td>\n",
              "      <td>y</td>\n",
              "      <td>n</td>\n",
              "      <td>y</td>\n",
              "      <td>y</td>\n",
              "      <td>y</td>\n",
              "      <td>n</td>\n",
              "      <td>n</td>\n",
              "      <td>n</td>\n",
              "      <td>y</td>\n",
              "      <td>?</td>\n",
              "      <td>y</td>\n",
              "      <td>y</td>\n",
              "      <td>y</td>\n",
              "      <td>n</td>\n",
              "      <td>y</td>\n",
              "    </tr>\n",
              "    <tr>\n",
              "      <th>1</th>\n",
              "      <td>republican</td>\n",
              "      <td>n</td>\n",
              "      <td>y</td>\n",
              "      <td>n</td>\n",
              "      <td>y</td>\n",
              "      <td>y</td>\n",
              "      <td>y</td>\n",
              "      <td>n</td>\n",
              "      <td>n</td>\n",
              "      <td>n</td>\n",
              "      <td>n</td>\n",
              "      <td>n</td>\n",
              "      <td>y</td>\n",
              "      <td>y</td>\n",
              "      <td>y</td>\n",
              "      <td>n</td>\n",
              "      <td>?</td>\n",
              "    </tr>\n",
              "    <tr>\n",
              "      <th>2</th>\n",
              "      <td>democrat</td>\n",
              "      <td>?</td>\n",
              "      <td>y</td>\n",
              "      <td>y</td>\n",
              "      <td>?</td>\n",
              "      <td>y</td>\n",
              "      <td>y</td>\n",
              "      <td>n</td>\n",
              "      <td>n</td>\n",
              "      <td>n</td>\n",
              "      <td>n</td>\n",
              "      <td>y</td>\n",
              "      <td>n</td>\n",
              "      <td>y</td>\n",
              "      <td>y</td>\n",
              "      <td>n</td>\n",
              "      <td>n</td>\n",
              "    </tr>\n",
              "    <tr>\n",
              "      <th>3</th>\n",
              "      <td>democrat</td>\n",
              "      <td>n</td>\n",
              "      <td>y</td>\n",
              "      <td>y</td>\n",
              "      <td>n</td>\n",
              "      <td>?</td>\n",
              "      <td>y</td>\n",
              "      <td>n</td>\n",
              "      <td>n</td>\n",
              "      <td>n</td>\n",
              "      <td>n</td>\n",
              "      <td>y</td>\n",
              "      <td>n</td>\n",
              "      <td>y</td>\n",
              "      <td>n</td>\n",
              "      <td>n</td>\n",
              "      <td>y</td>\n",
              "    </tr>\n",
              "    <tr>\n",
              "      <th>4</th>\n",
              "      <td>democrat</td>\n",
              "      <td>y</td>\n",
              "      <td>y</td>\n",
              "      <td>y</td>\n",
              "      <td>n</td>\n",
              "      <td>y</td>\n",
              "      <td>y</td>\n",
              "      <td>n</td>\n",
              "      <td>n</td>\n",
              "      <td>n</td>\n",
              "      <td>n</td>\n",
              "      <td>y</td>\n",
              "      <td>?</td>\n",
              "      <td>y</td>\n",
              "      <td>y</td>\n",
              "      <td>y</td>\n",
              "      <td>y</td>\n",
              "    </tr>\n",
              "  </tbody>\n",
              "</table>\n",
              "</div>"
            ],
            "text/plain": [
              "        party handicapped-infants water-project  ... crime duty-free south-africa\n",
              "0  republican                   n             y  ...     y         n            y\n",
              "1  republican                   n             y  ...     y         n            ?\n",
              "2    democrat                   ?             y  ...     y         n            n\n",
              "3    democrat                   n             y  ...     n         n            y\n",
              "4    democrat                   y             y  ...     y         y            y\n",
              "\n",
              "[5 rows x 17 columns]"
            ]
          },
          "metadata": {
            "tags": []
          },
          "execution_count": 70
        }
      ]
    },
    {
      "cell_type": "code",
      "metadata": {
        "id": "rZhsfTTwRZTR",
        "colab_type": "code",
        "colab": {}
      },
      "source": [
        "df.describe()"
      ],
      "execution_count": 0,
      "outputs": []
    },
    {
      "cell_type": "code",
      "metadata": {
        "id": "FOsLtncuUzEB",
        "colab_type": "code",
        "outputId": "8bcd2e6f-efa3-4bd7-c348-5adf719b5714",
        "colab": {
          "base_uri": "https://localhost:8080/",
          "height": 34
        }
      },
      "source": [
        "df.shape"
      ],
      "execution_count": 0,
      "outputs": [
        {
          "output_type": "execute_result",
          "data": {
            "text/plain": [
              "(435, 17)"
            ]
          },
          "metadata": {
            "tags": []
          },
          "execution_count": 56
        }
      ]
    },
    {
      "cell_type": "code",
      "metadata": {
        "id": "A_xaDWJyUkJg",
        "colab_type": "code",
        "outputId": "fb837b7b-7a8c-4959-bc33-b303c1c047c0",
        "colab": {
          "base_uri": "https://localhost:8080/",
          "height": 258
        }
      },
      "source": [
        "df = df.replace({\"y\": 1, \"n\": 0, \"?\": np.NaN})\n",
        "\n",
        "df.head()"
      ],
      "execution_count": 3,
      "outputs": [
        {
          "output_type": "execute_result",
          "data": {
            "text/html": [
              "<div>\n",
              "<style scoped>\n",
              "    .dataframe tbody tr th:only-of-type {\n",
              "        vertical-align: middle;\n",
              "    }\n",
              "\n",
              "    .dataframe tbody tr th {\n",
              "        vertical-align: top;\n",
              "    }\n",
              "\n",
              "    .dataframe thead th {\n",
              "        text-align: right;\n",
              "    }\n",
              "</style>\n",
              "<table border=\"1\" class=\"dataframe\">\n",
              "  <thead>\n",
              "    <tr style=\"text-align: right;\">\n",
              "      <th></th>\n",
              "      <th>party</th>\n",
              "      <th>handicapped-infants</th>\n",
              "      <th>water-project</th>\n",
              "      <th>budget</th>\n",
              "      <th>physician-fee-freeze</th>\n",
              "      <th>el-salvador-aid</th>\n",
              "      <th>religious-groups</th>\n",
              "      <th>anti-satellite-ban</th>\n",
              "      <th>aid-to-contras</th>\n",
              "      <th>mx-missle</th>\n",
              "      <th>immigration</th>\n",
              "      <th>synfuels</th>\n",
              "      <th>education</th>\n",
              "      <th>right-to-sue</th>\n",
              "      <th>crime</th>\n",
              "      <th>duty-free</th>\n",
              "      <th>south-africa</th>\n",
              "    </tr>\n",
              "  </thead>\n",
              "  <tbody>\n",
              "    <tr>\n",
              "      <th>0</th>\n",
              "      <td>republican</td>\n",
              "      <td>0.0</td>\n",
              "      <td>1.0</td>\n",
              "      <td>0.0</td>\n",
              "      <td>1.0</td>\n",
              "      <td>1.0</td>\n",
              "      <td>1.0</td>\n",
              "      <td>0.0</td>\n",
              "      <td>0.0</td>\n",
              "      <td>0.0</td>\n",
              "      <td>1.0</td>\n",
              "      <td>NaN</td>\n",
              "      <td>1.0</td>\n",
              "      <td>1.0</td>\n",
              "      <td>1.0</td>\n",
              "      <td>0.0</td>\n",
              "      <td>1.0</td>\n",
              "    </tr>\n",
              "    <tr>\n",
              "      <th>1</th>\n",
              "      <td>republican</td>\n",
              "      <td>0.0</td>\n",
              "      <td>1.0</td>\n",
              "      <td>0.0</td>\n",
              "      <td>1.0</td>\n",
              "      <td>1.0</td>\n",
              "      <td>1.0</td>\n",
              "      <td>0.0</td>\n",
              "      <td>0.0</td>\n",
              "      <td>0.0</td>\n",
              "      <td>0.0</td>\n",
              "      <td>0.0</td>\n",
              "      <td>1.0</td>\n",
              "      <td>1.0</td>\n",
              "      <td>1.0</td>\n",
              "      <td>0.0</td>\n",
              "      <td>NaN</td>\n",
              "    </tr>\n",
              "    <tr>\n",
              "      <th>2</th>\n",
              "      <td>democrat</td>\n",
              "      <td>NaN</td>\n",
              "      <td>1.0</td>\n",
              "      <td>1.0</td>\n",
              "      <td>NaN</td>\n",
              "      <td>1.0</td>\n",
              "      <td>1.0</td>\n",
              "      <td>0.0</td>\n",
              "      <td>0.0</td>\n",
              "      <td>0.0</td>\n",
              "      <td>0.0</td>\n",
              "      <td>1.0</td>\n",
              "      <td>0.0</td>\n",
              "      <td>1.0</td>\n",
              "      <td>1.0</td>\n",
              "      <td>0.0</td>\n",
              "      <td>0.0</td>\n",
              "    </tr>\n",
              "    <tr>\n",
              "      <th>3</th>\n",
              "      <td>democrat</td>\n",
              "      <td>0.0</td>\n",
              "      <td>1.0</td>\n",
              "      <td>1.0</td>\n",
              "      <td>0.0</td>\n",
              "      <td>NaN</td>\n",
              "      <td>1.0</td>\n",
              "      <td>0.0</td>\n",
              "      <td>0.0</td>\n",
              "      <td>0.0</td>\n",
              "      <td>0.0</td>\n",
              "      <td>1.0</td>\n",
              "      <td>0.0</td>\n",
              "      <td>1.0</td>\n",
              "      <td>0.0</td>\n",
              "      <td>0.0</td>\n",
              "      <td>1.0</td>\n",
              "    </tr>\n",
              "    <tr>\n",
              "      <th>4</th>\n",
              "      <td>democrat</td>\n",
              "      <td>1.0</td>\n",
              "      <td>1.0</td>\n",
              "      <td>1.0</td>\n",
              "      <td>0.0</td>\n",
              "      <td>1.0</td>\n",
              "      <td>1.0</td>\n",
              "      <td>0.0</td>\n",
              "      <td>0.0</td>\n",
              "      <td>0.0</td>\n",
              "      <td>0.0</td>\n",
              "      <td>1.0</td>\n",
              "      <td>NaN</td>\n",
              "      <td>1.0</td>\n",
              "      <td>1.0</td>\n",
              "      <td>1.0</td>\n",
              "      <td>1.0</td>\n",
              "    </tr>\n",
              "  </tbody>\n",
              "</table>\n",
              "</div>"
            ],
            "text/plain": [
              "        party  handicapped-infants  ...  duty-free  south-africa\n",
              "0  republican                  0.0  ...        0.0           1.0\n",
              "1  republican                  0.0  ...        0.0           NaN\n",
              "2    democrat                  NaN  ...        0.0           0.0\n",
              "3    democrat                  0.0  ...        0.0           1.0\n",
              "4    democrat                  1.0  ...        1.0           1.0\n",
              "\n",
              "[5 rows x 17 columns]"
            ]
          },
          "metadata": {
            "tags": []
          },
          "execution_count": 3
        }
      ]
    },
    {
      "cell_type": "code",
      "metadata": {
        "id": "qPerJkzuWuOV",
        "colab_type": "code",
        "outputId": "deaecb04-72eb-4d65-875c-6785b24d9d5e",
        "colab": {
          "base_uri": "https://localhost:8080/",
          "height": 323
        }
      },
      "source": [
        "df.isnull().sum()"
      ],
      "execution_count": 14,
      "outputs": [
        {
          "output_type": "execute_result",
          "data": {
            "text/plain": [
              "party                   0\n",
              "handicapped-infants     0\n",
              "water-project           0\n",
              "budget                  0\n",
              "physician-fee-freeze    0\n",
              "el-salvador-aid         0\n",
              "religious-groups        0\n",
              "anti-satellite-ban      0\n",
              "aid-to-contras          0\n",
              "mx-missle               0\n",
              "immigration             0\n",
              "synfuels                0\n",
              "education               0\n",
              "right-to-sue            0\n",
              "crime                   0\n",
              "duty-free               0\n",
              "south-africa            0\n",
              "dtype: int64"
            ]
          },
          "metadata": {
            "tags": []
          },
          "execution_count": 14
        }
      ]
    },
    {
      "cell_type": "code",
      "metadata": {
        "id": "QV8uGmnZW5i0",
        "colab_type": "code",
        "outputId": "2ba4e509-1868-4f41-cf2d-3fa936a24ace",
        "colab": {
          "base_uri": "https://localhost:8080/",
          "height": 227
        }
      },
      "source": [
        "df.describe(exclude='number')"
      ],
      "execution_count": 13,
      "outputs": [
        {
          "output_type": "execute_result",
          "data": {
            "text/html": [
              "<div>\n",
              "<style scoped>\n",
              "    .dataframe tbody tr th:only-of-type {\n",
              "        vertical-align: middle;\n",
              "    }\n",
              "\n",
              "    .dataframe tbody tr th {\n",
              "        vertical-align: top;\n",
              "    }\n",
              "\n",
              "    .dataframe thead th {\n",
              "        text-align: right;\n",
              "    }\n",
              "</style>\n",
              "<table border=\"1\" class=\"dataframe\">\n",
              "  <thead>\n",
              "    <tr style=\"text-align: right;\">\n",
              "      <th></th>\n",
              "      <th>party</th>\n",
              "      <th>handicapped-infants</th>\n",
              "      <th>water-project</th>\n",
              "      <th>budget</th>\n",
              "      <th>physician-fee-freeze</th>\n",
              "      <th>el-salvador-aid</th>\n",
              "      <th>religious-groups</th>\n",
              "      <th>anti-satellite-ban</th>\n",
              "      <th>aid-to-contras</th>\n",
              "      <th>mx-missle</th>\n",
              "      <th>immigration</th>\n",
              "      <th>synfuels</th>\n",
              "      <th>education</th>\n",
              "      <th>right-to-sue</th>\n",
              "      <th>crime</th>\n",
              "      <th>duty-free</th>\n",
              "      <th>south-africa</th>\n",
              "    </tr>\n",
              "  </thead>\n",
              "  <tbody>\n",
              "    <tr>\n",
              "      <th>count</th>\n",
              "      <td>435</td>\n",
              "      <td>435</td>\n",
              "      <td>435</td>\n",
              "      <td>435</td>\n",
              "      <td>435</td>\n",
              "      <td>435</td>\n",
              "      <td>435</td>\n",
              "      <td>435</td>\n",
              "      <td>435</td>\n",
              "      <td>435</td>\n",
              "      <td>435</td>\n",
              "      <td>435</td>\n",
              "      <td>435</td>\n",
              "      <td>435</td>\n",
              "      <td>435</td>\n",
              "      <td>435</td>\n",
              "      <td>435</td>\n",
              "    </tr>\n",
              "    <tr>\n",
              "      <th>unique</th>\n",
              "      <td>2</td>\n",
              "      <td>3</td>\n",
              "      <td>3</td>\n",
              "      <td>3</td>\n",
              "      <td>3</td>\n",
              "      <td>3</td>\n",
              "      <td>3</td>\n",
              "      <td>3</td>\n",
              "      <td>3</td>\n",
              "      <td>3</td>\n",
              "      <td>3</td>\n",
              "      <td>3</td>\n",
              "      <td>3</td>\n",
              "      <td>3</td>\n",
              "      <td>3</td>\n",
              "      <td>3</td>\n",
              "      <td>3</td>\n",
              "    </tr>\n",
              "    <tr>\n",
              "      <th>top</th>\n",
              "      <td>democrat</td>\n",
              "      <td>n</td>\n",
              "      <td>y</td>\n",
              "      <td>y</td>\n",
              "      <td>n</td>\n",
              "      <td>y</td>\n",
              "      <td>y</td>\n",
              "      <td>y</td>\n",
              "      <td>y</td>\n",
              "      <td>y</td>\n",
              "      <td>y</td>\n",
              "      <td>n</td>\n",
              "      <td>n</td>\n",
              "      <td>y</td>\n",
              "      <td>y</td>\n",
              "      <td>n</td>\n",
              "      <td>y</td>\n",
              "    </tr>\n",
              "    <tr>\n",
              "      <th>freq</th>\n",
              "      <td>267</td>\n",
              "      <td>236</td>\n",
              "      <td>195</td>\n",
              "      <td>253</td>\n",
              "      <td>247</td>\n",
              "      <td>212</td>\n",
              "      <td>272</td>\n",
              "      <td>239</td>\n",
              "      <td>242</td>\n",
              "      <td>207</td>\n",
              "      <td>216</td>\n",
              "      <td>264</td>\n",
              "      <td>233</td>\n",
              "      <td>209</td>\n",
              "      <td>248</td>\n",
              "      <td>233</td>\n",
              "      <td>269</td>\n",
              "    </tr>\n",
              "  </tbody>\n",
              "</table>\n",
              "</div>"
            ],
            "text/plain": [
              "           party handicapped-infants water-project  ... crime duty-free south-africa\n",
              "count        435                 435           435  ...   435       435          435\n",
              "unique         2                   3             3  ...     3         3            3\n",
              "top     democrat                   n             y  ...     y         n            y\n",
              "freq         267                 236           195  ...   248       233          269\n",
              "\n",
              "[4 rows x 17 columns]"
            ]
          },
          "metadata": {
            "tags": []
          },
          "execution_count": 13
        }
      ]
    },
    {
      "cell_type": "code",
      "metadata": {
        "id": "LpXLo5bfZkNs",
        "colab_type": "code",
        "outputId": "90c31e35-d8da-4b66-aff6-ee4cb14c7e6c",
        "colab": {
          "base_uri": "https://localhost:8080/",
          "height": 85
        }
      },
      "source": [
        "df['water-project'].value_counts()"
      ],
      "execution_count": 15,
      "outputs": [
        {
          "output_type": "execute_result",
          "data": {
            "text/plain": [
              "y    195\n",
              "n    192\n",
              "?     48\n",
              "Name: water-project, dtype: int64"
            ]
          },
          "metadata": {
            "tags": []
          },
          "execution_count": 15
        }
      ]
    },
    {
      "cell_type": "code",
      "metadata": {
        "id": "hqN3A4aMaTUI",
        "colab_type": "code",
        "outputId": "cdaec272-1062-4c26-dd38-0e1850be0c09",
        "colab": {
          "base_uri": "https://localhost:8080/",
          "height": 85
        }
      },
      "source": [
        "df['crime'].value_counts()"
      ],
      "execution_count": 16,
      "outputs": [
        {
          "output_type": "execute_result",
          "data": {
            "text/plain": [
              "y    248\n",
              "n    170\n",
              "?     17\n",
              "Name: crime, dtype: int64"
            ]
          },
          "metadata": {
            "tags": []
          },
          "execution_count": 16
        }
      ]
    },
    {
      "cell_type": "code",
      "metadata": {
        "id": "ivNj3LNaajGW",
        "colab_type": "code",
        "outputId": "6ae6308b-1292-4e35-a2ad-a0093ee54520",
        "colab": {
          "base_uri": "https://localhost:8080/",
          "height": 204
        }
      },
      "source": [
        "contingency_table = pd.crosstab(df['water-project'], df['crime'], margins=True)\n",
        "\n",
        "contingency_table"
      ],
      "execution_count": 17,
      "outputs": [
        {
          "output_type": "execute_result",
          "data": {
            "text/html": [
              "<div>\n",
              "<style scoped>\n",
              "    .dataframe tbody tr th:only-of-type {\n",
              "        vertical-align: middle;\n",
              "    }\n",
              "\n",
              "    .dataframe tbody tr th {\n",
              "        vertical-align: top;\n",
              "    }\n",
              "\n",
              "    .dataframe thead th {\n",
              "        text-align: right;\n",
              "    }\n",
              "</style>\n",
              "<table border=\"1\" class=\"dataframe\">\n",
              "  <thead>\n",
              "    <tr style=\"text-align: right;\">\n",
              "      <th>crime</th>\n",
              "      <th>?</th>\n",
              "      <th>n</th>\n",
              "      <th>y</th>\n",
              "      <th>All</th>\n",
              "    </tr>\n",
              "    <tr>\n",
              "      <th>water-project</th>\n",
              "      <th></th>\n",
              "      <th></th>\n",
              "      <th></th>\n",
              "      <th></th>\n",
              "    </tr>\n",
              "  </thead>\n",
              "  <tbody>\n",
              "    <tr>\n",
              "      <th>?</th>\n",
              "      <td>4</td>\n",
              "      <td>21</td>\n",
              "      <td>23</td>\n",
              "      <td>48</td>\n",
              "    </tr>\n",
              "    <tr>\n",
              "      <th>n</th>\n",
              "      <td>3</td>\n",
              "      <td>74</td>\n",
              "      <td>115</td>\n",
              "      <td>192</td>\n",
              "    </tr>\n",
              "    <tr>\n",
              "      <th>y</th>\n",
              "      <td>10</td>\n",
              "      <td>75</td>\n",
              "      <td>110</td>\n",
              "      <td>195</td>\n",
              "    </tr>\n",
              "    <tr>\n",
              "      <th>All</th>\n",
              "      <td>17</td>\n",
              "      <td>170</td>\n",
              "      <td>248</td>\n",
              "      <td>435</td>\n",
              "    </tr>\n",
              "  </tbody>\n",
              "</table>\n",
              "</div>"
            ],
            "text/plain": [
              "crime           ?    n    y  All\n",
              "water-project                   \n",
              "?               4   21   23   48\n",
              "n               3   74  115  192\n",
              "y              10   75  110  195\n",
              "All            17  170  248  435"
            ]
          },
          "metadata": {
            "tags": []
          },
          "execution_count": 17
        }
      ]
    },
    {
      "cell_type": "code",
      "metadata": {
        "id": "zFurlUFjawgg",
        "colab_type": "code",
        "colab": {}
      },
      "source": [
        ""
      ],
      "execution_count": 0,
      "outputs": []
    },
    {
      "cell_type": "markdown",
      "metadata": {
        "id": "sKwHFdCdbIXg",
        "colab_type": "text"
      },
      "source": [
        "expected value"
      ]
    },
    {
      "cell_type": "code",
      "metadata": {
        "id": "a7tF-2nfXqbj",
        "colab_type": "code",
        "colab": {
          "base_uri": "https://localhost:8080/",
          "height": 51
        },
        "outputId": "3624a589-2d40-41c4-d734-830b49ca11dc"
      },
      "source": [
        "row_sums = contingency_table.iloc[0:3, 3].values\n",
        "col_sums = contingency_table.iloc[2, 0:3].values\n",
        "\n",
        "print(row_sums)\n",
        "print(col_sums)"
      ],
      "execution_count": 32,
      "outputs": [
        {
          "output_type": "stream",
          "text": [
            "[ 48 192 195]\n",
            "[ 10  75 110]\n"
          ],
          "name": "stdout"
        }
      ]
    },
    {
      "cell_type": "code",
      "metadata": {
        "id": "aDR3JmVQcq-r",
        "colab_type": "code",
        "colab": {}
      },
      "source": [
        "total_total = df.shape[0]"
      ],
      "execution_count": 0,
      "outputs": []
    },
    {
      "cell_type": "code",
      "metadata": {
        "id": "0roUaz43dOvY",
        "colab_type": "code",
        "colab": {
          "base_uri": "https://localhost:8080/",
          "height": 85
        },
        "outputId": "7150bb67-b216-4600-a2b6-8985905079fd"
      },
      "source": [
        "expected = []\n",
        "for i in range(len(row_sums)):\n",
        "  expected_row = []\n",
        "  for column in col_sums:\n",
        "    expected_val = column*row_sums[i]/total_total\n",
        "    expected_row.append(expected_val)\n",
        "  expected.append(expected_row)\n",
        "\n",
        "expected = np.array(expected)\n",
        "print(expected.shape)  \n",
        "print(expected) "
      ],
      "execution_count": 33,
      "outputs": [
        {
          "output_type": "stream",
          "text": [
            "(3, 3)\n",
            "[[ 1.10344828  8.27586207 12.13793103]\n",
            " [ 4.4137931  33.10344828 48.55172414]\n",
            " [ 4.48275862 33.62068966 49.31034483]]\n"
          ],
          "name": "stdout"
        }
      ]
    },
    {
      "cell_type": "code",
      "metadata": {
        "id": "awuaf-94g8cj",
        "colab_type": "code",
        "colab": {
          "base_uri": "https://localhost:8080/",
          "height": 85
        },
        "outputId": "5ea519e6-cbfe-456d-ced2-4a66eeab9fc3"
      },
      "source": [
        "# Get a crosstab without the margins:\n",
        "\n",
        "observed = pd.crosstab(df['water-project'], df['crime']).values\n",
        "print(observed.shape)\n",
        "observed"
      ],
      "execution_count": 34,
      "outputs": [
        {
          "output_type": "stream",
          "text": [
            "(3, 3)\n"
          ],
          "name": "stdout"
        },
        {
          "output_type": "execute_result",
          "data": {
            "text/plain": [
              "array([[  4,  21,  23],\n",
              "       [  3,  74, 115],\n",
              "       [ 10,  75, 110]])"
            ]
          },
          "metadata": {
            "tags": []
          },
          "execution_count": 34
        }
      ]
    },
    {
      "cell_type": "code",
      "metadata": {
        "id": "XDzODrwmiCua",
        "colab_type": "code",
        "colab": {
          "base_uri": "https://localhost:8080/",
          "height": 51
        },
        "outputId": "efcec92f-460a-4b91-f4d1-eee483fad48f"
      },
      "source": [
        "# Array broadcasting will work with numpy arrays but not python lists\n",
        "chi_squared = ((observed - expected)**2/(expected)).sum() \n",
        "print(f\"Chi-Squared: {chi_squared}\")# Array broadcasting will work with numpy arrays but not python lists\n",
        "chi_squared = ((observed - expected)**2/(expected)).sum() \n",
        "print(f\"Chi-Squared: {chi_squared}\")"
      ],
      "execution_count": 35,
      "outputs": [
        {
          "output_type": "stream",
          "text": [
            "Chi-Squared: 311.219696969697\n",
            "Chi-Squared: 311.219696969697\n"
          ],
          "name": "stdout"
        }
      ]
    },
    {
      "cell_type": "code",
      "metadata": {
        "id": "8JWw6UnZid_j",
        "colab_type": "code",
        "colab": {
          "base_uri": "https://localhost:8080/",
          "height": 136
        },
        "outputId": "a44c26fe-9c97-4cea-ba21-2d87b3adcc30"
      },
      "source": [
        "chi_squared, p_value, dof, expected = stats.chi2_contingency(observed)\n",
        "\n",
        "print(f\"Chi-Squared: {chi_squared}\")\n",
        "print(f\"P-value: {p_value}\")\n",
        "print(f\"Degrees of Freedom: {dof}\") \n",
        "print(\"Expected: \\n\", np.array(expected))"
      ],
      "execution_count": 99,
      "outputs": [
        {
          "output_type": "stream",
          "text": [
            "Chi-Squared: 7.141174931123193\n",
            "P-value: 0.12861321388187236\n",
            "Degrees of Freedom: 4\n",
            "Expected: \n",
            " [[  1.87586207  18.75862069  27.36551724]\n",
            " [  7.50344828  75.03448276 109.46206897]\n",
            " [  7.62068966  76.20689655 111.17241379]]\n"
          ],
          "name": "stdout"
        }
      ]
    },
    {
      "cell_type": "markdown",
      "metadata": {
        "id": "A-2-iUkYjYuL",
        "colab_type": "text"
      },
      "source": [
        "#2"
      ]
    },
    {
      "cell_type": "markdown",
      "metadata": {
        "id": "YrU22kQ7jZzw",
        "colab_type": "text"
      },
      "source": [
        ""
      ]
    },
    {
      "cell_type": "code",
      "metadata": {
        "id": "OoCo96x3jaBt",
        "colab_type": "code",
        "colab": {
          "base_uri": "https://localhost:8080/",
          "height": 221
        },
        "outputId": "ca52af89-dbae-4585-9e0a-484c60a6ac44"
      },
      "source": [
        "df['crime'] = np.random.binomial(n=1, p=.5, size=435)\n",
        "df['crime']"
      ],
      "execution_count": 44,
      "outputs": [
        {
          "output_type": "execute_result",
          "data": {
            "text/plain": [
              "0      1\n",
              "1      1\n",
              "2      0\n",
              "3      0\n",
              "4      1\n",
              "      ..\n",
              "430    1\n",
              "431    0\n",
              "432    1\n",
              "433    0\n",
              "434    1\n",
              "Name: crime, Length: 435, dtype: int64"
            ]
          },
          "metadata": {
            "tags": []
          },
          "execution_count": 44
        }
      ]
    },
    {
      "cell_type": "code",
      "metadata": {
        "id": "uOh2DZVOjr-b",
        "colab_type": "code",
        "colab": {
          "base_uri": "https://localhost:8080/",
          "height": 34
        },
        "outputId": "d9c19aed-6f58-4cde-80ba-789cb553e43a"
      },
      "source": [
        ".5**435"
      ],
      "execution_count": 45,
      "outputs": [
        {
          "output_type": "execute_result",
          "data": {
            "text/plain": [
              "1.1270725851789228e-131"
            ]
          },
          "metadata": {
            "tags": []
          },
          "execution_count": 45
        }
      ]
    },
    {
      "cell_type": "code",
      "metadata": {
        "id": "v6H9MzLQjxsd",
        "colab_type": "code",
        "colab": {
          "base_uri": "https://localhost:8080/",
          "height": 34
        },
        "outputId": "42482eff-a203-4737-f4bb-fd20c6d7e0ff"
      },
      "source": [
        "df['crime'] = np.random.binomial(n=1, p=.5, size=435)\n",
        "df['crime'].mean()"
      ],
      "execution_count": 49,
      "outputs": [
        {
          "output_type": "execute_result",
          "data": {
            "text/plain": [
              "0.4804597701149425"
            ]
          },
          "metadata": {
            "tags": []
          },
          "execution_count": 49
        }
      ]
    },
    {
      "cell_type": "code",
      "metadata": {
        "id": "w6DmZ0eUkEV1",
        "colab_type": "code",
        "colab": {
          "base_uri": "https://localhost:8080/",
          "height": 71
        },
        "outputId": "4b806fd5-6e25-428e-d6d1-fa30f4bdd322"
      },
      "source": [
        "sample_means = []\n",
        "for x in range(0,3000):\n",
        "  df['crime'] = np.random.binomial(n=1, p=.5, size=435)\n",
        "  one_sample = df['crime']\n",
        "  sample_means.append(df['crime'].mean())\n",
        "\n",
        "print(len(sample_means))\n",
        "print(sample_means)"
      ],
      "execution_count": 51,
      "outputs": [
        {
          "output_type": "stream",
          "text": [
            "3000\n",
            "[0.4896551724137931, 0.49885057471264366, 0.4413793103448276, 0.4942528735632184, 0.5218390804597701, 0.48735632183908045, 0.4942528735632184, 0.5402298850574713, 0.5241379310344828, 0.4689655172413793, 0.5310344827586206, 0.5149425287356322, 0.4689655172413793, 0.5126436781609195, 0.5126436781609195, 0.5172413793103449, 0.4827586206896552, 0.503448275862069, 0.5379310344827586, 0.496551724137931, 0.5218390804597701, 0.49885057471264366, 0.5333333333333333, 0.496551724137931, 0.46206896551724136, 0.4850574712643678, 0.4781609195402299, 0.5218390804597701, 0.5057471264367817, 0.5218390804597701, 0.496551724137931, 0.503448275862069, 0.5103448275862069, 0.47586206896551725, 0.4850574712643678, 0.5057471264367817, 0.5149425287356322, 0.5103448275862069, 0.5126436781609195, 0.496551724137931, 0.5080459770114942, 0.5218390804597701, 0.5172413793103449, 0.4850574712643678, 0.5195402298850574, 0.46206896551724136, 0.5195402298850574, 0.5080459770114942, 0.5609195402298851, 0.5402298850574713, 0.4735632183908046, 0.4827586206896552, 0.4827586206896552, 0.45517241379310347, 0.4735632183908046, 0.46436781609195404, 0.5264367816091954, 0.45977011494252873, 0.5057471264367817, 0.5310344827586206, 0.4942528735632184, 0.48735632183908045, 0.4735632183908046, 0.5080459770114942, 0.4804597701149425, 0.48735632183908045, 0.496551724137931, 0.503448275862069, 0.503448275862069, 0.5287356321839081, 0.5241379310344828, 0.5241379310344828, 0.47126436781609193, 0.503448275862069, 0.4735632183908046, 0.5287356321839081, 0.4804597701149425, 0.5103448275862069, 0.4942528735632184, 0.5310344827586206, 0.5195402298850574, 0.47586206896551725, 0.5172413793103449, 0.4850574712643678, 0.5080459770114942, 0.49885057471264366, 0.496551724137931, 0.4942528735632184, 0.5241379310344828, 0.5103448275862069, 0.4827586206896552, 0.48735632183908045, 0.5057471264367817, 0.5149425287356322, 0.535632183908046, 0.47126436781609193, 0.5241379310344828, 0.49885057471264366, 0.5241379310344828, 0.5126436781609195, 0.47126436781609193, 0.5195402298850574, 0.5287356321839081, 0.5011494252873563, 0.47126436781609193, 0.5379310344827586, 0.503448275862069, 0.5172413793103449, 0.5126436781609195, 0.47126436781609193, 0.4827586206896552, 0.47586206896551725, 0.49885057471264366, 0.4735632183908046, 0.5241379310344828, 0.5195402298850574, 0.4666666666666667, 0.4896551724137931, 0.4827586206896552, 0.5057471264367817, 0.5264367816091954, 0.503448275862069, 0.4689655172413793, 0.5172413793103449, 0.49885057471264366, 0.4804597701149425, 0.4850574712643678, 0.5126436781609195, 0.49885057471264366, 0.496551724137931, 0.5241379310344828, 0.5310344827586206, 0.5218390804597701, 0.5011494252873563, 0.4804597701149425, 0.503448275862069, 0.4735632183908046, 0.5241379310344828, 0.5057471264367817, 0.46436781609195404, 0.5103448275862069, 0.46206896551724136, 0.5379310344827586, 0.496551724137931, 0.5126436781609195, 0.5287356321839081, 0.48735632183908045, 0.5218390804597701, 0.4850574712643678, 0.4666666666666667, 0.45057471264367815, 0.496551724137931, 0.5011494252873563, 0.5172413793103449, 0.5172413793103449, 0.5126436781609195, 0.5218390804597701, 0.4804597701149425, 0.45517241379310347, 0.4850574712643678, 0.5080459770114942, 0.496551724137931, 0.496551724137931, 0.5172413793103449, 0.47586206896551725, 0.5402298850574713, 0.4942528735632184, 0.5080459770114942, 0.48735632183908045, 0.5011494252873563, 0.5011494252873563, 0.4689655172413793, 0.5103448275862069, 0.4896551724137931, 0.49885057471264366, 0.4827586206896552, 0.5126436781609195, 0.5471264367816092, 0.5080459770114942, 0.47126436781609193, 0.4827586206896552, 0.4574712643678161, 0.46436781609195404, 0.5264367816091954, 0.535632183908046, 0.49885057471264366, 0.5287356321839081, 0.5241379310344828, 0.4850574712643678, 0.5172413793103449, 0.5172413793103449, 0.5126436781609195, 0.5149425287356322, 0.5057471264367817, 0.4804597701149425, 0.4896551724137931, 0.4827586206896552, 0.5103448275862069, 0.542528735632184, 0.5149425287356322, 0.5310344827586206, 0.503448275862069, 0.5172413793103449, 0.503448275862069, 0.496551724137931, 0.503448275862069, 0.48735632183908045, 0.5057471264367817, 0.5057471264367817, 0.5103448275862069, 0.5103448275862069, 0.5011494252873563, 0.5264367816091954, 0.47586206896551725, 0.47586206896551725, 0.5241379310344828, 0.5310344827586206, 0.5241379310344828, 0.5172413793103449, 0.5218390804597701, 0.4896551724137931, 0.4781609195402299, 0.5126436781609195, 0.5402298850574713, 0.503448275862069, 0.5080459770114942, 0.5080459770114942, 0.5241379310344828, 0.4850574712643678, 0.5103448275862069, 0.5080459770114942, 0.46436781609195404, 0.46436781609195404, 0.4942528735632184, 0.5517241379310345, 0.5011494252873563, 0.45977011494252873, 0.5126436781609195, 0.5494252873563218, 0.5057471264367817, 0.5172413793103449, 0.49885057471264366, 0.5287356321839081, 0.47126436781609193, 0.46206896551724136, 0.503448275862069, 0.5241379310344828, 0.47586206896551725, 0.47126436781609193, 0.47126436781609193, 0.4850574712643678, 0.503448275862069, 0.5057471264367817, 0.5379310344827586, 0.49195402298850577, 0.4942528735632184, 0.5172413793103449, 0.4781609195402299, 0.46436781609195404, 0.4850574712643678, 0.4896551724137931, 0.4666666666666667, 0.5080459770114942, 0.47586206896551725, 0.4781609195402299, 0.49195402298850577, 0.503448275862069, 0.4666666666666667, 0.4735632183908046, 0.47586206896551725, 0.48735632183908045, 0.5011494252873563, 0.5126436781609195, 0.5149425287356322, 0.5241379310344828, 0.4896551724137931, 0.5011494252873563, 0.4666666666666667, 0.4942528735632184, 0.4850574712643678, 0.5011494252873563, 0.5103448275862069, 0.4942528735632184, 0.4942528735632184, 0.47126436781609193, 0.5471264367816092, 0.4804597701149425, 0.4942528735632184, 0.496551724137931, 0.4735632183908046, 0.5379310344827586, 0.49885057471264366, 0.47126436781609193, 0.5402298850574713, 0.496551724137931, 0.4942528735632184, 0.5080459770114942, 0.5057471264367817, 0.5103448275862069, 0.5011494252873563, 0.5126436781609195, 0.5172413793103449, 0.5057471264367817, 0.5057471264367817, 0.5747126436781609, 0.49195402298850577, 0.47126436781609193, 0.4942528735632184, 0.5080459770114942, 0.5149425287356322, 0.496551724137931, 0.5126436781609195, 0.4942528735632184, 0.5264367816091954, 0.4804597701149425, 0.4804597701149425, 0.43448275862068964, 0.5471264367816092, 0.4735632183908046, 0.4850574712643678, 0.5195402298850574, 0.4459770114942529, 0.5264367816091954, 0.5333333333333333, 0.535632183908046, 0.46436781609195404, 0.4896551724137931, 0.496551724137931, 0.5126436781609195, 0.5632183908045977, 0.4689655172413793, 0.4942528735632184, 0.48735632183908045, 0.4666666666666667, 0.4666666666666667, 0.496551724137931, 0.5333333333333333, 0.5080459770114942, 0.49195402298850577, 0.4735632183908046, 0.5379310344827586, 0.503448275862069, 0.496551724137931, 0.5471264367816092, 0.5333333333333333, 0.5103448275862069, 0.5218390804597701, 0.496551724137931, 0.4666666666666667, 0.5149425287356322, 0.49195402298850577, 0.4804597701149425, 0.5057471264367817, 0.5264367816091954, 0.4804597701149425, 0.503448275862069, 0.4413793103448276, 0.5103448275862069, 0.4827586206896552, 0.5149425287356322, 0.496551724137931, 0.5057471264367817, 0.49195402298850577, 0.5057471264367817, 0.47586206896551725, 0.4896551724137931, 0.5103448275862069, 0.5264367816091954, 0.542528735632184, 0.5149425287356322, 0.4896551724137931, 0.47586206896551725, 0.5333333333333333, 0.4942528735632184, 0.43448275862068964, 0.5287356321839081, 0.48735632183908045, 0.5057471264367817, 0.4850574712643678, 0.5379310344827586, 0.4689655172413793, 0.5402298850574713, 0.5172413793103449, 0.542528735632184, 0.49195402298850577, 0.49195402298850577, 0.503448275862069, 0.5172413793103449, 0.503448275862069, 0.5103448275862069, 0.5402298850574713, 0.4942528735632184, 0.496551724137931, 0.4827586206896552, 0.45517241379310347, 0.4804597701149425, 0.4666666666666667, 0.542528735632184, 0.47126436781609193, 0.4689655172413793, 0.46436781609195404, 0.49195402298850577, 0.5057471264367817, 0.4459770114942529, 0.496551724137931, 0.5011494252873563, 0.5080459770114942, 0.47586206896551725, 0.4942528735632184, 0.47126436781609193, 0.5195402298850574, 0.5310344827586206, 0.4689655172413793, 0.496551724137931, 0.5517241379310345, 0.5172413793103449, 0.45977011494252873, 0.4942528735632184, 0.5241379310344828, 0.5310344827586206, 0.4574712643678161, 0.5333333333333333, 0.5080459770114942, 0.5172413793103449, 0.5057471264367817, 0.4804597701149425, 0.5149425287356322, 0.49195402298850577, 0.4781609195402299, 0.4804597701149425, 0.5011494252873563, 0.5172413793103449, 0.5057471264367817, 0.5310344827586206, 0.5103448275862069, 0.47126436781609193, 0.5264367816091954, 0.45977011494252873, 0.496551724137931, 0.5632183908045977, 0.535632183908046, 0.4850574712643678, 0.5264367816091954, 0.47126436781609193, 0.4735632183908046, 0.496551724137931, 0.4896551724137931, 0.4206896551724138, 0.49885057471264366, 0.4942528735632184, 0.5126436781609195, 0.5471264367816092, 0.542528735632184, 0.496551724137931, 0.5172413793103449, 0.5218390804597701, 0.4781609195402299, 0.5149425287356322, 0.5172413793103449, 0.4689655172413793, 0.49195402298850577, 0.5126436781609195, 0.5057471264367817, 0.5172413793103449, 0.4850574712643678, 0.496551724137931, 0.5632183908045977, 0.5448275862068965, 0.48735632183908045, 0.49195402298850577, 0.47126436781609193, 0.4896551724137931, 0.5218390804597701, 0.5103448275862069, 0.5218390804597701, 0.5264367816091954, 0.4942528735632184, 0.5080459770114942, 0.49885057471264366, 0.4436781609195402, 0.4804597701149425, 0.5080459770114942, 0.5172413793103449, 0.4781609195402299, 0.5149425287356322, 0.4781609195402299, 0.5287356321839081, 0.4896551724137931, 0.5172413793103449, 0.5011494252873563, 0.49885057471264366, 0.5172413793103449, 0.46206896551724136, 0.535632183908046, 0.49195402298850577, 0.49195402298850577, 0.5080459770114942, 0.5011494252873563, 0.5586206896551724, 0.4804597701149425, 0.47586206896551725, 0.5241379310344828, 0.4574712643678161, 0.48735632183908045, 0.542528735632184, 0.4804597701149425, 0.5218390804597701, 0.4896551724137931, 0.49885057471264366, 0.503448275862069, 0.5149425287356322, 0.5333333333333333, 0.503448275862069, 0.4896551724137931, 0.48735632183908045, 0.503448275862069, 0.4436781609195402, 0.5310344827586206, 0.5149425287356322, 0.5149425287356322, 0.5310344827586206, 0.4781609195402299, 0.5011494252873563, 0.49885057471264366, 0.496551724137931, 0.5011494252873563, 0.5080459770114942, 0.5080459770114942, 0.4781609195402299, 0.49195402298850577, 0.47586206896551725, 0.4896551724137931, 0.4827586206896552, 0.4482758620689655, 0.5195402298850574, 0.4781609195402299, 0.5103448275862069, 0.5172413793103449, 0.4827586206896552, 0.48735632183908045, 0.5287356321839081, 0.48735632183908045, 0.4735632183908046, 0.5448275862068965, 0.496551724137931, 0.496551724137931, 0.4827586206896552, 0.5149425287356322, 0.4459770114942529, 0.5218390804597701, 0.535632183908046, 0.5103448275862069, 0.5057471264367817, 0.496551724137931, 0.47586206896551725, 0.496551724137931, 0.5172413793103449, 0.5126436781609195, 0.4850574712643678, 0.46436781609195404, 0.46436781609195404, 0.46436781609195404, 0.49195402298850577, 0.4804597701149425, 0.4804597701149425, 0.4689655172413793, 0.5218390804597701, 0.4896551724137931, 0.503448275862069, 0.47126436781609193, 0.4804597701149425, 0.503448275862069, 0.5011494252873563, 0.4942528735632184, 0.5172413793103449, 0.45977011494252873, 0.43908045977011495, 0.4896551724137931, 0.5701149425287356, 0.5011494252873563, 0.5379310344827586, 0.46436781609195404, 0.4942528735632184, 0.5057471264367817, 0.5057471264367817, 0.5287356321839081, 0.5057471264367817, 0.4666666666666667, 0.5149425287356322, 0.5080459770114942, 0.5103448275862069, 0.49885057471264366, 0.5172413793103449, 0.5103448275862069, 0.503448275862069, 0.4896551724137931, 0.5448275862068965, 0.5172413793103449, 0.5126436781609195, 0.47586206896551725, 0.5563218390804597, 0.5126436781609195, 0.49195402298850577, 0.5011494252873563, 0.5287356321839081, 0.4781609195402299, 0.5080459770114942, 0.5241379310344828, 0.535632183908046, 0.503448275862069, 0.47586206896551725, 0.503448275862069, 0.5057471264367817, 0.49885057471264366, 0.4804597701149425, 0.47586206896551725, 0.4850574712643678, 0.5310344827586206, 0.45977011494252873, 0.49885057471264366, 0.5080459770114942, 0.48735632183908045, 0.47586206896551725, 0.5218390804597701, 0.4942528735632184, 0.4574712643678161, 0.5310344827586206, 0.5149425287356322, 0.49195402298850577, 0.5172413793103449, 0.5011494252873563, 0.5287356321839081, 0.5287356321839081, 0.4781609195402299, 0.49195402298850577, 0.4942528735632184, 0.5264367816091954, 0.5379310344827586, 0.5057471264367817, 0.45517241379310347, 0.4666666666666667, 0.45977011494252873, 0.4896551724137931, 0.5448275862068965, 0.4804597701149425, 0.542528735632184, 0.5218390804597701, 0.4528735632183908, 0.5080459770114942, 0.4528735632183908, 0.49885057471264366, 0.4827586206896552, 0.5540229885057472, 0.4804597701149425, 0.47586206896551725, 0.496551724137931, 0.46206896551724136, 0.4850574712643678, 0.47126436781609193, 0.503448275862069, 0.503448275862069, 0.5126436781609195, 0.48735632183908045, 0.5172413793103449, 0.496551724137931, 0.5172413793103449, 0.503448275862069, 0.5103448275862069, 0.5126436781609195, 0.542528735632184, 0.496551724137931, 0.49885057471264366, 0.4942528735632184, 0.5195402298850574, 0.48735632183908045, 0.4666666666666667, 0.46206896551724136, 0.4896551724137931, 0.4574712643678161, 0.4850574712643678, 0.5218390804597701, 0.496551724137931, 0.4896551724137931, 0.47126436781609193, 0.47586206896551725, 0.4781609195402299, 0.4781609195402299, 0.5655172413793104, 0.496551724137931, 0.496551724137931, 0.45977011494252873, 0.49885057471264366, 0.5402298850574713, 0.5149425287356322, 0.4781609195402299, 0.4666666666666667, 0.5241379310344828, 0.4666666666666667, 0.4896551724137931, 0.4689655172413793, 0.5195402298850574, 0.4666666666666667, 0.503448275862069, 0.4666666666666667, 0.5218390804597701, 0.5333333333333333, 0.5011494252873563, 0.4942528735632184, 0.49885057471264366, 0.4896551724137931, 0.46206896551724136, 0.5632183908045977, 0.5126436781609195, 0.48735632183908045, 0.5264367816091954, 0.5172413793103449, 0.5310344827586206, 0.5080459770114942, 0.4896551724137931, 0.4896551724137931, 0.4666666666666667, 0.4804597701149425, 0.4781609195402299, 0.4850574712643678, 0.5310344827586206, 0.4942528735632184, 0.49885057471264366, 0.47586206896551725, 0.4896551724137931, 0.5126436781609195, 0.4850574712643678, 0.5333333333333333, 0.46436781609195404, 0.5517241379310345, 0.542528735632184, 0.5287356321839081, 0.496551724137931, 0.4781609195402299, 0.4781609195402299, 0.4942528735632184, 0.5218390804597701, 0.5080459770114942, 0.5011494252873563, 0.5287356321839081, 0.47586206896551725, 0.4827586206896552, 0.5195402298850574, 0.5149425287356322, 0.5241379310344828, 0.5149425287356322, 0.5172413793103449, 0.5448275862068965, 0.4689655172413793, 0.5402298850574713, 0.5195402298850574, 0.4735632183908046, 0.5149425287356322, 0.542528735632184, 0.48735632183908045, 0.4804597701149425, 0.5172413793103449, 0.5218390804597701, 0.5080459770114942, 0.4827586206896552, 0.5287356321839081, 0.5195402298850574, 0.496551724137931, 0.496551724137931, 0.49195402298850577, 0.4482758620689655, 0.5402298850574713, 0.5333333333333333, 0.49885057471264366, 0.45517241379310347, 0.4574712643678161, 0.46206896551724136, 0.5195402298850574, 0.5195402298850574, 0.5448275862068965, 0.5057471264367817, 0.496551724137931, 0.4804597701149425, 0.4804597701149425, 0.4827586206896552, 0.47126436781609193, 0.49195402298850577, 0.47126436781609193, 0.5241379310344828, 0.4735632183908046, 0.4735632183908046, 0.4804597701149425, 0.4298850574712644, 0.5080459770114942, 0.5126436781609195, 0.535632183908046, 0.4850574712643678, 0.503448275862069, 0.5195402298850574, 0.4666666666666667, 0.46206896551724136, 0.42758620689655175, 0.49885057471264366, 0.5218390804597701, 0.5057471264367817, 0.5011494252873563, 0.5379310344827586, 0.5172413793103449, 0.5264367816091954, 0.4942528735632184, 0.4942528735632184, 0.4436781609195402, 0.4574712643678161, 0.5333333333333333, 0.5103448275862069, 0.4804597701149425, 0.4942528735632184, 0.5586206896551724, 0.45517241379310347, 0.5011494252873563, 0.4574712643678161, 0.5057471264367817, 0.5057471264367817, 0.535632183908046, 0.5011494252873563, 0.49195402298850577, 0.49195402298850577, 0.49885057471264366, 0.5494252873563218, 0.5103448275862069, 0.48735632183908045, 0.496551724137931, 0.47586206896551725, 0.45517241379310347, 0.5333333333333333, 0.5540229885057472, 0.5172413793103449, 0.5172413793103449, 0.4896551724137931, 0.5379310344827586, 0.5310344827586206, 0.5080459770114942, 0.49195402298850577, 0.5195402298850574, 0.49885057471264366, 0.4827586206896552, 0.5080459770114942, 0.5057471264367817, 0.5379310344827586, 0.49885057471264366, 0.49885057471264366, 0.45977011494252873, 0.4850574712643678, 0.4896551724137931, 0.5264367816091954, 0.5264367816091954, 0.4942528735632184, 0.4574712643678161, 0.5103448275862069, 0.4689655172413793, 0.5057471264367817, 0.4827586206896552, 0.503448275862069, 0.503448275862069, 0.4827586206896552, 0.4827586206896552, 0.5264367816091954, 0.4942528735632184, 0.5218390804597701, 0.4827586206896552, 0.5057471264367817, 0.47126436781609193, 0.4827586206896552, 0.48735632183908045, 0.48735632183908045, 0.5103448275862069, 0.5195402298850574, 0.4804597701149425, 0.4827586206896552, 0.496551724137931, 0.5149425287356322, 0.5195402298850574, 0.496551724137931, 0.496551724137931, 0.4574712643678161, 0.5149425287356322, 0.503448275862069, 0.48735632183908045, 0.5126436781609195, 0.48735632183908045, 0.4804597701149425, 0.5172413793103449, 0.5172413793103449, 0.5103448275862069, 0.5080459770114942, 0.5264367816091954, 0.48735632183908045, 0.4827586206896552, 0.4689655172413793, 0.5402298850574713, 0.4850574712643678, 0.5379310344827586, 0.4942528735632184, 0.49195402298850577, 0.5333333333333333, 0.5011494252873563, 0.49885057471264366, 0.49195402298850577, 0.5011494252873563, 0.47586206896551725, 0.47586206896551725, 0.5126436781609195, 0.5333333333333333, 0.4827586206896552, 0.5218390804597701, 0.45977011494252873, 0.5195402298850574, 0.5057471264367817, 0.5103448275862069, 0.4735632183908046, 0.46436781609195404, 0.48735632183908045, 0.5287356321839081, 0.5195402298850574, 0.48735632183908045, 0.47126436781609193, 0.4735632183908046, 0.496551724137931, 0.5011494252873563, 0.4781609195402299, 0.5011494252873563, 0.5333333333333333, 0.5011494252873563, 0.5011494252873563, 0.47586206896551725, 0.5126436781609195, 0.4850574712643678, 0.5172413793103449, 0.4896551724137931, 0.4804597701149425, 0.4896551724137931, 0.5172413793103449, 0.4574712643678161, 0.4781609195402299, 0.503448275862069, 0.5103448275862069, 0.4574712643678161, 0.4689655172413793, 0.5103448275862069, 0.5241379310344828, 0.5195402298850574, 0.4942528735632184, 0.47126436781609193, 0.5057471264367817, 0.45517241379310347, 0.5011494252873563, 0.4781609195402299, 0.49885057471264366, 0.5080459770114942, 0.4781609195402299, 0.4850574712643678, 0.4436781609195402, 0.5195402298850574, 0.4666666666666667, 0.5103448275862069, 0.5011494252873563, 0.5287356321839081, 0.5057471264367817, 0.5310344827586206, 0.4804597701149425, 0.46206896551724136, 0.4827586206896552, 0.49885057471264366, 0.5218390804597701, 0.5149425287356322, 0.5241379310344828, 0.5241379310344828, 0.496551724137931, 0.4689655172413793, 0.5126436781609195, 0.503448275862069, 0.48735632183908045, 0.5172413793103449, 0.4942528735632184, 0.4735632183908046, 0.5103448275862069, 0.4804597701149425, 0.45517241379310347, 0.5609195402298851, 0.49885057471264366, 0.47126436781609193, 0.5218390804597701, 0.5172413793103449, 0.4735632183908046, 0.4827586206896552, 0.5241379310344828, 0.4666666666666667, 0.45517241379310347, 0.5011494252873563, 0.4896551724137931, 0.49885057471264366, 0.5057471264367817, 0.5241379310344828, 0.4804597701149425, 0.5126436781609195, 0.4827586206896552, 0.5195402298850574, 0.5287356321839081, 0.5057471264367817, 0.46436781609195404, 0.5540229885057472, 0.47586206896551725, 0.496551724137931, 0.5218390804597701, 0.49885057471264366, 0.5241379310344828, 0.4942528735632184, 0.5333333333333333, 0.4896551724137931, 0.5126436781609195, 0.4689655172413793, 0.5103448275862069, 0.4850574712643678, 0.48735632183908045, 0.5080459770114942, 0.5057471264367817, 0.5011494252873563, 0.4827586206896552, 0.4850574712643678, 0.49885057471264366, 0.5149425287356322, 0.503448275862069, 0.49195402298850577, 0.5218390804597701, 0.4942528735632184, 0.4942528735632184, 0.5310344827586206, 0.4896551724137931, 0.503448275862069, 0.5333333333333333, 0.4942528735632184, 0.4827586206896552, 0.5149425287356322, 0.5172413793103449, 0.49195402298850577, 0.503448275862069, 0.5218390804597701, 0.4850574712643678, 0.503448275862069, 0.5195402298850574, 0.4850574712643678, 0.5149425287356322, 0.5287356321839081, 0.4735632183908046, 0.5402298850574713, 0.49885057471264366, 0.48735632183908045, 0.49885057471264366, 0.5195402298850574, 0.49195402298850577, 0.503448275862069, 0.48735632183908045, 0.5149425287356322, 0.503448275862069, 0.503448275862069, 0.4942528735632184, 0.5080459770114942, 0.5057471264367817, 0.46436781609195404, 0.503448275862069, 0.5011494252873563, 0.5149425287356322, 0.5149425287356322, 0.5126436781609195, 0.5103448275862069, 0.5057471264367817, 0.5057471264367817, 0.5517241379310345, 0.5195402298850574, 0.49195402298850577, 0.5103448275862069, 0.5149425287356322, 0.5011494252873563, 0.4827586206896552, 0.5149425287356322, 0.5494252873563218, 0.5218390804597701, 0.49195402298850577, 0.4666666666666667, 0.4781609195402299, 0.4942528735632184, 0.5057471264367817, 0.4413793103448276, 0.503448275862069, 0.5057471264367817, 0.4827586206896552, 0.5011494252873563, 0.48735632183908045, 0.4781609195402299, 0.5310344827586206, 0.5126436781609195, 0.5195402298850574, 0.48735632183908045, 0.5011494252873563, 0.49885057471264366, 0.5103448275862069, 0.5057471264367817, 0.4850574712643678, 0.5310344827586206, 0.4850574712643678, 0.5103448275862069, 0.47586206896551725, 0.4827586206896552, 0.5241379310344828, 0.5011494252873563, 0.5103448275862069, 0.49885057471264366, 0.5678160919540229, 0.4666666666666667, 0.45517241379310347, 0.4666666666666667, 0.4781609195402299, 0.5195402298850574, 0.49885057471264366, 0.4528735632183908, 0.49195402298850577, 0.4666666666666667, 0.5471264367816092, 0.5310344827586206, 0.4827586206896552, 0.5103448275862069, 0.5057471264367817, 0.5402298850574713, 0.4827586206896552, 0.4896551724137931, 0.4735632183908046, 0.4942528735632184, 0.5218390804597701, 0.4735632183908046, 0.5195402298850574, 0.5149425287356322, 0.4850574712643678, 0.47586206896551725, 0.5195402298850574, 0.49195402298850577, 0.5218390804597701, 0.49195402298850577, 0.503448275862069, 0.49885057471264366, 0.5057471264367817, 0.5103448275862069, 0.5149425287356322, 0.496551724137931, 0.5011494252873563, 0.4804597701149425, 0.4735632183908046, 0.5126436781609195, 0.5494252873563218, 0.5057471264367817, 0.5448275862068965, 0.5402298850574713, 0.5126436781609195, 0.4735632183908046, 0.47586206896551725, 0.4827586206896552, 0.5126436781609195, 0.49885057471264366, 0.46436781609195404, 0.503448275862069, 0.496551724137931, 0.5149425287356322, 0.5172413793103449, 0.45517241379310347, 0.5126436781609195, 0.5103448275862069, 0.45517241379310347, 0.5172413793103449, 0.496551724137931, 0.4896551724137931, 0.47126436781609193, 0.49885057471264366, 0.48735632183908045, 0.5103448275862069, 0.5448275862068965, 0.4850574712643678, 0.4827586206896552, 0.4689655172413793, 0.4666666666666667, 0.5011494252873563, 0.4689655172413793, 0.49195402298850577, 0.4850574712643678, 0.535632183908046, 0.48735632183908045, 0.5126436781609195, 0.5287356321839081, 0.5195402298850574, 0.5264367816091954, 0.496551724137931, 0.49195402298850577, 0.5080459770114942, 0.5379310344827586, 0.5241379310344828, 0.49195402298850577, 0.4781609195402299, 0.503448275862069, 0.535632183908046, 0.49195402298850577, 0.5172413793103449, 0.47586206896551725, 0.4804597701149425, 0.5540229885057472, 0.496551724137931, 0.5080459770114942, 0.45517241379310347, 0.5379310344827586, 0.5241379310344828, 0.5057471264367817, 0.5195402298850574, 0.5241379310344828, 0.49195402298850577, 0.49885057471264366, 0.5057471264367817, 0.5287356321839081, 0.49195402298850577, 0.4666666666666667, 0.49195402298850577, 0.43908045977011495, 0.4942528735632184, 0.5080459770114942, 0.5241379310344828, 0.5218390804597701, 0.47586206896551725, 0.4827586206896552, 0.5103448275862069, 0.4804597701149425, 0.5310344827586206, 0.5241379310344828, 0.46436781609195404, 0.542528735632184, 0.45977011494252873, 0.5126436781609195, 0.5287356321839081, 0.5126436781609195, 0.4850574712643678, 0.5103448275862069, 0.4781609195402299, 0.5172413793103449, 0.535632183908046, 0.535632183908046, 0.5770114942528736, 0.535632183908046, 0.496551724137931, 0.5103448275862069, 0.4850574712643678, 0.5149425287356322, 0.5218390804597701, 0.46436781609195404, 0.49195402298850577, 0.5057471264367817, 0.5195402298850574, 0.49885057471264366, 0.5241379310344828, 0.45057471264367815, 0.5333333333333333, 0.4781609195402299, 0.49885057471264366, 0.5264367816091954, 0.5126436781609195, 0.4896551724137931, 0.4850574712643678, 0.4781609195402299, 0.4735632183908046, 0.503448275862069, 0.5241379310344828, 0.5103448275862069, 0.5195402298850574, 0.49885057471264366, 0.5011494252873563, 0.5057471264367817, 0.49885057471264366, 0.5080459770114942, 0.4942528735632184, 0.5080459770114942, 0.4942528735632184, 0.5149425287356322, 0.5011494252873563, 0.47586206896551725, 0.5310344827586206, 0.48735632183908045, 0.503448275862069, 0.47586206896551725, 0.5172413793103449, 0.4896551724137931, 0.4942528735632184, 0.5264367816091954, 0.5149425287356322, 0.5011494252873563, 0.4735632183908046, 0.503448275862069, 0.5310344827586206, 0.4804597701149425, 0.503448275862069, 0.5080459770114942, 0.5011494252873563, 0.4850574712643678, 0.4781609195402299, 0.4735632183908046, 0.5149425287356322, 0.46436781609195404, 0.4942528735632184, 0.5149425287356322, 0.5172413793103449, 0.496551724137931, 0.5264367816091954, 0.496551724137931, 0.5080459770114942, 0.5379310344827586, 0.5103448275862069, 0.5310344827586206, 0.5126436781609195, 0.45977011494252873, 0.5816091954022988, 0.4689655172413793, 0.5011494252873563, 0.5080459770114942, 0.5172413793103449, 0.496551724137931, 0.4827586206896552, 0.5379310344827586, 0.5310344827586206, 0.4528735632183908, 0.5172413793103449, 0.4827586206896552, 0.496551724137931, 0.48735632183908045, 0.5540229885057472, 0.4574712643678161, 0.5080459770114942, 0.4896551724137931, 0.503448275862069, 0.4735632183908046, 0.5287356321839081, 0.5379310344827586, 0.4896551724137931, 0.4827586206896552, 0.5264367816091954, 0.4781609195402299, 0.5195402298850574, 0.535632183908046, 0.5172413793103449, 0.49195402298850577, 0.5747126436781609, 0.4689655172413793, 0.49885057471264366, 0.5057471264367817, 0.4482758620689655, 0.4827586206896552, 0.5172413793103449, 0.503448275862069, 0.4896551724137931, 0.5126436781609195, 0.5195402298850574, 0.5011494252873563, 0.5494252873563218, 0.5264367816091954, 0.5011494252873563, 0.5149425287356322, 0.5241379310344828, 0.5218390804597701, 0.5218390804597701, 0.5149425287356322, 0.5126436781609195, 0.4942528735632184, 0.43908045977011495, 0.5080459770114942, 0.503448275862069, 0.5011494252873563, 0.4367816091954023, 0.49885057471264366, 0.5264367816091954, 0.4827586206896552, 0.5080459770114942, 0.46206896551724136, 0.503448275862069, 0.4942528735632184, 0.5402298850574713, 0.5241379310344828, 0.5172413793103449, 0.5195402298850574, 0.4942528735632184, 0.5103448275862069, 0.503448275862069, 0.4896551724137931, 0.48735632183908045, 0.5103448275862069, 0.5011494252873563, 0.4781609195402299, 0.4850574712643678, 0.4735632183908046, 0.5310344827586206, 0.496551724137931, 0.5241379310344828, 0.47126436781609193, 0.5218390804597701, 0.5264367816091954, 0.5057471264367817, 0.49195402298850577, 0.4896551724137931, 0.4850574712643678, 0.4896551724137931, 0.4804597701149425, 0.5264367816091954, 0.503448275862069, 0.5057471264367817, 0.5103448275862069, 0.4804597701149425, 0.5011494252873563, 0.496551724137931, 0.503448275862069, 0.5172413793103449, 0.4942528735632184, 0.5057471264367817, 0.5195402298850574, 0.5172413793103449, 0.4574712643678161, 0.4804597701149425, 0.5264367816091954, 0.4942528735632184, 0.5149425287356322, 0.4689655172413793, 0.4804597701149425, 0.496551724137931, 0.5172413793103449, 0.5172413793103449, 0.48735632183908045, 0.5402298850574713, 0.48735632183908045, 0.4781609195402299, 0.45977011494252873, 0.5011494252873563, 0.5149425287356322, 0.48735632183908045, 0.49885057471264366, 0.5011494252873563, 0.4827586206896552, 0.4896551724137931, 0.5241379310344828, 0.49885057471264366, 0.5195402298850574, 0.503448275862069, 0.46206896551724136, 0.48735632183908045, 0.5241379310344828, 0.45977011494252873, 0.4436781609195402, 0.4482758620689655, 0.5103448275862069, 0.45977011494252873, 0.49885057471264366, 0.5218390804597701, 0.47126436781609193, 0.4804597701149425, 0.48735632183908045, 0.5103448275862069, 0.5149425287356322, 0.4942528735632184, 0.4689655172413793, 0.5103448275862069, 0.5011494252873563, 0.5011494252873563, 0.5080459770114942, 0.5172413793103449, 0.5080459770114942, 0.4804597701149425, 0.503448275862069, 0.47586206896551725, 0.5103448275862069, 0.4896551724137931, 0.49195402298850577, 0.5241379310344828, 0.4735632183908046, 0.4850574712643678, 0.49195402298850577, 0.5172413793103449, 0.535632183908046, 0.5218390804597701, 0.4942528735632184, 0.5379310344827586, 0.535632183908046, 0.5126436781609195, 0.496551724137931, 0.4781609195402299, 0.5172413793103449, 0.49885057471264366, 0.5195402298850574, 0.4689655172413793, 0.5057471264367817, 0.45977011494252873, 0.4735632183908046, 0.49885057471264366, 0.4666666666666667, 0.496551724137931, 0.5126436781609195, 0.5195402298850574, 0.5172413793103449, 0.5287356321839081, 0.4896551724137931, 0.5241379310344828, 0.496551724137931, 0.49195402298850577, 0.5310344827586206, 0.5402298850574713, 0.5080459770114942, 0.5057471264367817, 0.5218390804597701, 0.4896551724137931, 0.503448275862069, 0.4942528735632184, 0.5011494252873563, 0.5080459770114942, 0.503448275862069, 0.5264367816091954, 0.4804597701149425, 0.47126436781609193, 0.503448275862069, 0.5218390804597701, 0.5057471264367817, 0.5011494252873563, 0.45977011494252873, 0.5080459770114942, 0.496551724137931, 0.5724137931034483, 0.47586206896551725, 0.5310344827586206, 0.5172413793103449, 0.5264367816091954, 0.5103448275862069, 0.5264367816091954, 0.48735632183908045, 0.4942528735632184, 0.5057471264367817, 0.5126436781609195, 0.5080459770114942, 0.503448275862069, 0.45977011494252873, 0.4666666666666667, 0.4689655172413793, 0.4850574712643678, 0.48735632183908045, 0.5080459770114942, 0.5126436781609195, 0.49885057471264366, 0.5011494252873563, 0.5540229885057472, 0.5586206896551724, 0.4850574712643678, 0.5264367816091954, 0.4689655172413793, 0.496551724137931, 0.48735632183908045, 0.503448275862069, 0.4735632183908046, 0.593103448275862, 0.5218390804597701, 0.5172413793103449, 0.5080459770114942, 0.4574712643678161, 0.503448275862069, 0.5218390804597701, 0.5149425287356322, 0.47126436781609193, 0.5494252873563218, 0.5149425287356322, 0.5241379310344828, 0.5149425287356322, 0.5172413793103449, 0.4850574712643678, 0.49885057471264366, 0.5310344827586206, 0.5011494252873563, 0.4689655172413793, 0.503448275862069, 0.5011494252873563, 0.5402298850574713, 0.542528735632184, 0.5103448275862069, 0.5011494252873563, 0.5103448275862069, 0.49195402298850577, 0.4666666666666667, 0.503448275862069, 0.5149425287356322, 0.4896551724137931, 0.4666666666666667, 0.5195402298850574, 0.49195402298850577, 0.535632183908046, 0.47586206896551725, 0.4942528735632184, 0.49195402298850577, 0.5149425287356322, 0.4781609195402299, 0.4735632183908046, 0.5586206896551724, 0.4827586206896552, 0.5402298850574713, 0.503448275862069, 0.49885057471264366, 0.5264367816091954, 0.542528735632184, 0.503448275862069, 0.5149425287356322, 0.4827586206896552, 0.4942528735632184, 0.4804597701149425, 0.4804597701149425, 0.4459770114942529, 0.4942528735632184, 0.4942528735632184, 0.45057471264367815, 0.5011494252873563, 0.4735632183908046, 0.4896551724137931, 0.4942528735632184, 0.45517241379310347, 0.5103448275862069, 0.4689655172413793, 0.5241379310344828, 0.5011494252873563, 0.496551724137931, 0.4781609195402299, 0.5310344827586206, 0.5333333333333333, 0.496551724137931, 0.4666666666666667, 0.503448275862069, 0.5011494252873563, 0.5310344827586206, 0.5471264367816092, 0.47586206896551725, 0.5126436781609195, 0.49885057471264366, 0.49885057471264366, 0.5172413793103449, 0.5126436781609195, 0.4666666666666667, 0.46206896551724136, 0.4735632183908046, 0.45977011494252873, 0.49195402298850577, 0.4896551724137931, 0.4850574712643678, 0.503448275862069, 0.4666666666666667, 0.4942528735632184, 0.4896551724137931, 0.5080459770114942, 0.5103448275862069, 0.5149425287356322, 0.49195402298850577, 0.4896551724137931, 0.496551724137931, 0.5333333333333333, 0.5218390804597701, 0.503448275862069, 0.5195402298850574, 0.4735632183908046, 0.4827586206896552, 0.5011494252873563, 0.5287356321839081, 0.4804597701149425, 0.45517241379310347, 0.496551724137931, 0.49885057471264366, 0.503448275862069, 0.47586206896551725, 0.4781609195402299, 0.5103448275862069, 0.49195402298850577, 0.5241379310344828, 0.503448275862069, 0.45517241379310347, 0.5149425287356322, 0.5402298850574713, 0.5080459770114942, 0.496551724137931, 0.49195402298850577, 0.49195402298850577, 0.5172413793103449, 0.5172413793103449, 0.4942528735632184, 0.496551724137931, 0.496551724137931, 0.5011494252873563, 0.5149425287356322, 0.4850574712643678, 0.5218390804597701, 0.503448275862069, 0.4850574712643678, 0.5264367816091954, 0.4689655172413793, 0.5057471264367817, 0.5264367816091954, 0.4735632183908046, 0.4804597701149425, 0.45977011494252873, 0.4850574712643678, 0.5195402298850574, 0.5057471264367817, 0.47586206896551725, 0.4896551724137931, 0.5126436781609195, 0.49885057471264366, 0.503448275862069, 0.5195402298850574, 0.5333333333333333, 0.4850574712643678, 0.47586206896551725, 0.5126436781609195, 0.46436781609195404, 0.4413793103448276, 0.4942528735632184, 0.5678160919540229, 0.4850574712643678, 0.5310344827586206, 0.5264367816091954, 0.5057471264367817, 0.49885057471264366, 0.4528735632183908, 0.49195402298850577, 0.46436781609195404, 0.4804597701149425, 0.5149425287356322, 0.4804597701149425, 0.5103448275862069, 0.4850574712643678, 0.4942528735632184, 0.5011494252873563, 0.5080459770114942, 0.5011494252873563, 0.49885057471264366, 0.48735632183908045, 0.496551724137931, 0.5333333333333333, 0.46206896551724136, 0.5149425287356322, 0.5126436781609195, 0.4850574712643678, 0.49195402298850577, 0.5218390804597701, 0.5011494252873563, 0.49885057471264366, 0.49885057471264366, 0.4735632183908046, 0.5011494252873563, 0.4528735632183908, 0.4804597701149425, 0.49885057471264366, 0.4942528735632184, 0.5379310344827586, 0.5494252873563218, 0.5172413793103449, 0.4804597701149425, 0.46436781609195404, 0.5264367816091954, 0.5149425287356322, 0.5057471264367817, 0.496551724137931, 0.496551724137931, 0.5080459770114942, 0.496551724137931, 0.4896551724137931, 0.5264367816091954, 0.496551724137931, 0.4298850574712644, 0.5172413793103449, 0.4827586206896552, 0.4942528735632184, 0.49885057471264366, 0.503448275862069, 0.496551724137931, 0.47126436781609193, 0.47126436781609193, 0.5218390804597701, 0.5103448275862069, 0.5540229885057472, 0.5080459770114942, 0.5057471264367817, 0.5149425287356322, 0.5310344827586206, 0.5333333333333333, 0.5264367816091954, 0.5448275862068965, 0.5494252873563218, 0.4942528735632184, 0.5379310344827586, 0.4804597701149425, 0.4850574712643678, 0.542528735632184, 0.535632183908046, 0.496551724137931, 0.5287356321839081, 0.4942528735632184, 0.5057471264367817, 0.5080459770114942, 0.4942528735632184, 0.5149425287356322, 0.5172413793103449, 0.49885057471264366, 0.46206896551724136, 0.4781609195402299, 0.535632183908046, 0.4689655172413793, 0.503448275862069, 0.5195402298850574, 0.5011494252873563, 0.5011494252873563, 0.5057471264367817, 0.47586206896551725, 0.4896551724137931, 0.5287356321839081, 0.496551724137931, 0.5126436781609195, 0.503448275862069, 0.4896551724137931, 0.49885057471264366, 0.4804597701149425, 0.5172413793103449, 0.5195402298850574, 0.5517241379310345, 0.4574712643678161, 0.4896551724137931, 0.5149425287356322, 0.5609195402298851, 0.5149425287356322, 0.5172413793103449, 0.5264367816091954, 0.5057471264367817, 0.496551724137931, 0.4689655172413793, 0.4896551724137931, 0.4942528735632184, 0.5149425287356322, 0.5264367816091954, 0.4735632183908046, 0.496551724137931, 0.4942528735632184, 0.4827586206896552, 0.4666666666666667, 0.5103448275862069, 0.47586206896551725, 0.5080459770114942, 0.5080459770114942, 0.5103448275862069, 0.5195402298850574, 0.4436781609195402, 0.49885057471264366, 0.5287356321839081, 0.496551724137931, 0.4942528735632184, 0.48735632183908045, 0.4896551724137931, 0.496551724137931, 0.5080459770114942, 0.4781609195402299, 0.4804597701149425, 0.49885057471264366, 0.49885057471264366, 0.5172413793103449, 0.46206896551724136, 0.5057471264367817, 0.5080459770114942, 0.5126436781609195, 0.5103448275862069, 0.49195402298850577, 0.46436781609195404, 0.5172413793103449, 0.4896551724137931, 0.49195402298850577, 0.49195402298850577, 0.4781609195402299, 0.5586206896551724, 0.535632183908046, 0.4896551724137931, 0.5057471264367817, 0.5057471264367817, 0.5241379310344828, 0.5126436781609195, 0.47126436781609193, 0.5379310344827586, 0.4781609195402299, 0.5241379310344828, 0.5172413793103449, 0.5287356321839081, 0.5287356321839081, 0.5172413793103449, 0.4827586206896552, 0.4735632183908046, 0.4574712643678161, 0.4942528735632184, 0.4942528735632184, 0.5402298850574713, 0.45517241379310347, 0.496551724137931, 0.49195402298850577, 0.5103448275862069, 0.4942528735632184, 0.5172413793103449, 0.48735632183908045, 0.5379310344827586, 0.503448275862069, 0.5195402298850574, 0.49885057471264366, 0.47126436781609193, 0.4781609195402299, 0.49885057471264366, 0.49195402298850577, 0.45977011494252873, 0.503448275862069, 0.5080459770114942, 0.4781609195402299, 0.4735632183908046, 0.4689655172413793, 0.5057471264367817, 0.4689655172413793, 0.5057471264367817, 0.4689655172413793, 0.4689655172413793, 0.4781609195402299, 0.4804597701149425, 0.5310344827586206, 0.4850574712643678, 0.503448275862069, 0.4804597701149425, 0.4804597701149425, 0.4896551724137931, 0.4896551724137931, 0.5126436781609195, 0.4804597701149425, 0.5103448275862069, 0.542528735632184, 0.5149425287356322, 0.5080459770114942, 0.5379310344827586, 0.4850574712643678, 0.496551724137931, 0.4827586206896552, 0.4827586206896552, 0.5310344827586206, 0.5218390804597701, 0.5149425287356322, 0.5770114942528736, 0.503448275862069, 0.5057471264367817, 0.5195402298850574, 0.4827586206896552, 0.5563218390804597, 0.496551724137931, 0.5149425287356322, 0.5011494252873563, 0.5172413793103449, 0.4781609195402299, 0.4804597701149425, 0.5057471264367817, 0.535632183908046, 0.5471264367816092, 0.4804597701149425, 0.5126436781609195, 0.4804597701149425, 0.46206896551724136, 0.4850574712643678, 0.49885057471264366, 0.503448275862069, 0.49195402298850577, 0.4804597701149425, 0.5103448275862069, 0.49885057471264366, 0.49195402298850577, 0.5402298850574713, 0.4942528735632184, 0.5103448275862069, 0.47586206896551725, 0.49195402298850577, 0.535632183908046, 0.5103448275862069, 0.5011494252873563, 0.5287356321839081, 0.5011494252873563, 0.5057471264367817, 0.5126436781609195, 0.4804597701149425, 0.5402298850574713, 0.5011494252873563, 0.5103448275862069, 0.5310344827586206, 0.496551724137931, 0.5241379310344828, 0.5218390804597701, 0.5172413793103449, 0.5080459770114942, 0.47586206896551725, 0.4781609195402299, 0.5218390804597701, 0.5310344827586206, 0.5333333333333333, 0.4666666666666667, 0.5057471264367817, 0.4942528735632184, 0.4827586206896552, 0.5448275862068965, 0.47126436781609193, 0.4850574712643678, 0.47586206896551725, 0.49885057471264366, 0.5218390804597701, 0.49885057471264366, 0.4827586206896552, 0.4942528735632184, 0.5126436781609195, 0.47126436781609193, 0.4781609195402299, 0.5310344827586206, 0.4850574712643678, 0.496551724137931, 0.5195402298850574, 0.49195402298850577, 0.503448275862069, 0.49885057471264366, 0.5287356321839081, 0.5057471264367817, 0.46436781609195404, 0.5287356321839081, 0.5080459770114942, 0.4413793103448276, 0.5057471264367817, 0.48735632183908045, 0.5241379310344828, 0.5103448275862069, 0.4482758620689655, 0.4781609195402299, 0.496551724137931, 0.4804597701149425, 0.47586206896551725, 0.5264367816091954, 0.4781609195402299, 0.5011494252873563, 0.5011494252873563, 0.5218390804597701, 0.5172413793103449, 0.5080459770114942, 0.49195402298850577, 0.5540229885057472, 0.5011494252873563, 0.4436781609195402, 0.5333333333333333, 0.5241379310344828, 0.5011494252873563, 0.47586206896551725, 0.46206896551724136, 0.4850574712643678, 0.4850574712643678, 0.48735632183908045, 0.5149425287356322, 0.5609195402298851, 0.48735632183908045, 0.5149425287356322, 0.5126436781609195, 0.503448275862069, 0.4735632183908046, 0.5310344827586206, 0.48735632183908045, 0.5057471264367817, 0.5080459770114942, 0.4850574712643678, 0.46436781609195404, 0.5149425287356322, 0.49195402298850577, 0.47126436781609193, 0.496551724137931, 0.5195402298850574, 0.5103448275862069, 0.496551724137931, 0.4735632183908046, 0.5333333333333333, 0.49195402298850577, 0.542528735632184, 0.47586206896551725, 0.4804597701149425, 0.503448275862069, 0.4804597701149425, 0.4827586206896552, 0.4827586206896552, 0.5287356321839081, 0.4827586206896552, 0.4942528735632184, 0.4781609195402299, 0.5011494252873563, 0.5057471264367817, 0.496551724137931, 0.503448275862069, 0.5195402298850574, 0.5195402298850574, 0.49885057471264366, 0.5264367816091954, 0.4896551724137931, 0.5126436781609195, 0.5195402298850574, 0.4942528735632184, 0.503448275862069, 0.5126436781609195, 0.4850574712643678, 0.49195402298850577, 0.47126436781609193, 0.5264367816091954, 0.4574712643678161, 0.49885057471264366, 0.503448275862069, 0.5011494252873563, 0.5103448275862069, 0.5172413793103449, 0.5195402298850574, 0.496551724137931, 0.4666666666666667, 0.49885057471264366, 0.4735632183908046, 0.5080459770114942, 0.46436781609195404, 0.5149425287356322, 0.5172413793103449, 0.5218390804597701, 0.5218390804597701, 0.48735632183908045, 0.5218390804597701, 0.47126436781609193, 0.47126436781609193, 0.49885057471264366, 0.5057471264367817, 0.45517241379310347, 0.4689655172413793, 0.48735632183908045, 0.5195402298850574, 0.46206896551724136, 0.5103448275862069, 0.4850574712643678, 0.5149425287356322, 0.496551724137931, 0.5264367816091954, 0.5264367816091954, 0.47586206896551725, 0.5218390804597701, 0.5195402298850574, 0.49195402298850577, 0.5057471264367817, 0.46436781609195404, 0.49885057471264366, 0.542528735632184, 0.47126436781609193, 0.5126436781609195, 0.45977011494252873, 0.5149425287356322, 0.5011494252873563, 0.4689655172413793, 0.4942528735632184, 0.4735632183908046, 0.45517241379310347, 0.5149425287356322, 0.4666666666666667, 0.5241379310344828, 0.5011494252873563, 0.4896551724137931, 0.5195402298850574, 0.5011494252873563, 0.535632183908046, 0.5057471264367817, 0.535632183908046, 0.4942528735632184, 0.4574712643678161, 0.5057471264367817, 0.49195402298850577, 0.5172413793103449, 0.496551724137931, 0.4482758620689655, 0.46436781609195404, 0.4942528735632184, 0.496551724137931, 0.5126436781609195, 0.5149425287356322, 0.4827586206896552, 0.5011494252873563, 0.503448275862069, 0.5080459770114942, 0.5126436781609195, 0.5264367816091954, 0.5011494252873563, 0.496551724137931, 0.5149425287356322, 0.5402298850574713, 0.47586206896551725, 0.4735632183908046, 0.503448275862069, 0.49885057471264366, 0.496551724137931, 0.5057471264367817, 0.496551724137931, 0.4896551724137931, 0.5172413793103449, 0.5011494252873563, 0.5287356321839081, 0.5241379310344828, 0.496551724137931, 0.503448275862069, 0.4942528735632184, 0.49885057471264366, 0.48735632183908045, 0.5149425287356322, 0.4804597701149425, 0.5149425287356322, 0.496551724137931, 0.48735632183908045, 0.5241379310344828, 0.5402298850574713, 0.5310344827586206, 0.45057471264367815, 0.5126436781609195, 0.5172413793103449, 0.4850574712643678, 0.5172413793103449, 0.503448275862069, 0.503448275862069, 0.503448275862069, 0.46436781609195404, 0.5149425287356322, 0.503448275862069, 0.47586206896551725, 0.5241379310344828, 0.4896551724137931, 0.4666666666666667, 0.5172413793103449, 0.4804597701149425, 0.4942528735632184, 0.5080459770114942, 0.4689655172413793, 0.5149425287356322, 0.4850574712643678, 0.5103448275862069, 0.4827586206896552, 0.5471264367816092, 0.5379310344827586, 0.4528735632183908, 0.4482758620689655, 0.4827586206896552, 0.46206896551724136, 0.5195402298850574, 0.5103448275862069, 0.503448275862069, 0.4735632183908046, 0.49885057471264366, 0.5149425287356322, 0.542528735632184, 0.5080459770114942, 0.4735632183908046, 0.47126436781609193, 0.4666666666666667, 0.4896551724137931, 0.5149425287356322, 0.5448275862068965, 0.5011494252873563, 0.49195402298850577, 0.5195402298850574, 0.4942528735632184, 0.496551724137931, 0.5080459770114942, 0.5333333333333333, 0.4804597701149425, 0.503448275862069, 0.5126436781609195, 0.5057471264367817, 0.5057471264367817, 0.48735632183908045, 0.542528735632184, 0.49885057471264366, 0.4781609195402299, 0.5195402298850574, 0.47586206896551725, 0.5195402298850574, 0.4666666666666667, 0.5126436781609195, 0.5379310344827586, 0.5264367816091954, 0.5264367816091954, 0.5149425287356322, 0.5241379310344828, 0.46436781609195404, 0.5310344827586206, 0.4804597701149425, 0.4850574712643678, 0.5080459770114942, 0.4413793103448276, 0.5103448275862069, 0.5103448275862069, 0.496551724137931, 0.5149425287356322, 0.4735632183908046, 0.5241379310344828, 0.5402298850574713, 0.4735632183908046, 0.5149425287356322, 0.4781609195402299, 0.5126436781609195, 0.5011494252873563, 0.4827586206896552, 0.5057471264367817, 0.5379310344827586, 0.4574712643678161, 0.5218390804597701, 0.4666666666666667, 0.4942528735632184, 0.4850574712643678, 0.49885057471264366, 0.49195402298850577, 0.5241379310344828, 0.5011494252873563, 0.4689655172413793, 0.5103448275862069, 0.49885057471264366, 0.4942528735632184, 0.5103448275862069, 0.5172413793103449, 0.4850574712643678, 0.5195402298850574, 0.5448275862068965, 0.5057471264367817, 0.49885057471264366, 0.4781609195402299, 0.4896551724137931, 0.496551724137931, 0.5057471264367817, 0.4942528735632184, 0.4850574712643678, 0.503448275862069, 0.5471264367816092, 0.48735632183908045, 0.503448275862069, 0.4850574712643678, 0.5218390804597701, 0.5080459770114942, 0.5011494252873563, 0.5287356321839081, 0.48735632183908045, 0.49195402298850577, 0.4482758620689655, 0.5264367816091954, 0.5149425287356322, 0.49885057471264366, 0.5172413793103449, 0.5517241379310345, 0.4666666666666667, 0.5333333333333333, 0.5264367816091954, 0.496551724137931, 0.4850574712643678, 0.5172413793103449, 0.48735632183908045, 0.5080459770114942, 0.5310344827586206, 0.5195402298850574, 0.5195402298850574, 0.5080459770114942, 0.47126436781609193, 0.5080459770114942, 0.4804597701149425, 0.5080459770114942, 0.5241379310344828, 0.4850574712643678, 0.4942528735632184, 0.503448275862069, 0.47586206896551725, 0.4942528735632184, 0.5126436781609195, 0.503448275862069, 0.496551724137931, 0.5218390804597701, 0.5241379310344828, 0.5310344827586206, 0.5471264367816092, 0.5287356321839081, 0.4850574712643678, 0.4781609195402299, 0.5471264367816092, 0.5379310344827586, 0.496551724137931, 0.4827586206896552, 0.5080459770114942, 0.5080459770114942, 0.496551724137931, 0.4942528735632184, 0.5126436781609195, 0.5264367816091954, 0.5333333333333333, 0.4942528735632184, 0.4942528735632184, 0.4436781609195402, 0.503448275862069, 0.5264367816091954, 0.47586206896551725, 0.5149425287356322, 0.4781609195402299, 0.4896551724137931, 0.4781609195402299, 0.4735632183908046, 0.5080459770114942, 0.496551724137931, 0.5149425287356322, 0.45517241379310347, 0.5310344827586206, 0.48735632183908045, 0.5540229885057472, 0.45977011494252873, 0.5172413793103449, 0.47586206896551725, 0.5218390804597701, 0.5126436781609195, 0.5057471264367817, 0.5264367816091954, 0.5057471264367817, 0.5494252873563218, 0.5149425287356322, 0.5172413793103449, 0.5218390804597701, 0.4804597701149425, 0.48735632183908045, 0.4850574712643678, 0.4436781609195402, 0.49885057471264366, 0.5126436781609195, 0.4896551724137931, 0.49195402298850577, 0.4827586206896552, 0.47586206896551725, 0.4850574712643678, 0.48735632183908045, 0.5172413793103449, 0.49885057471264366, 0.5057471264367817, 0.4781609195402299, 0.5126436781609195, 0.5241379310344828, 0.4482758620689655, 0.5057471264367817, 0.503448275862069, 0.5080459770114942, 0.4827586206896552, 0.5011494252873563, 0.46436781609195404, 0.4827586206896552, 0.4942528735632184, 0.4689655172413793, 0.5011494252873563, 0.5011494252873563, 0.5011494252873563, 0.5011494252873563, 0.503448275862069, 0.45977011494252873, 0.49195402298850577, 0.4827586206896552, 0.5241379310344828, 0.5080459770114942, 0.4896551724137931, 0.4850574712643678, 0.5310344827586206, 0.5241379310344828, 0.4482758620689655, 0.5517241379310345, 0.49885057471264366, 0.5287356321839081, 0.5149425287356322, 0.48735632183908045, 0.49885057471264366, 0.496551724137931, 0.5103448275862069, 0.5287356321839081, 0.4735632183908046, 0.5080459770114942, 0.49195402298850577, 0.49885057471264366, 0.5172413793103449, 0.5080459770114942, 0.49885057471264366, 0.4850574712643678, 0.5310344827586206, 0.45977011494252873, 0.4942528735632184, 0.4804597701149425, 0.4781609195402299, 0.5471264367816092, 0.5241379310344828, 0.5264367816091954, 0.4850574712643678, 0.5310344827586206, 0.5609195402298851, 0.4850574712643678, 0.4896551724137931, 0.4781609195402299, 0.4804597701149425, 0.5264367816091954, 0.4942528735632184, 0.45517241379310347, 0.5195402298850574, 0.47586206896551725, 0.496551724137931, 0.5310344827586206, 0.4896551724137931, 0.49885057471264366, 0.5126436781609195, 0.4666666666666667, 0.48735632183908045, 0.5264367816091954, 0.5471264367816092, 0.5172413793103449, 0.4850574712643678, 0.48735632183908045, 0.5264367816091954, 0.47586206896551725, 0.49195402298850577, 0.4781609195402299, 0.4896551724137931, 0.4804597701149425, 0.496551724137931, 0.4735632183908046, 0.5011494252873563, 0.49195402298850577, 0.496551724137931, 0.5218390804597701, 0.5333333333333333, 0.4850574712643678, 0.48735632183908045, 0.4528735632183908, 0.47586206896551725, 0.4896551724137931, 0.46436781609195404, 0.5287356321839081, 0.5172413793103449, 0.4896551724137931, 0.4850574712643678, 0.4781609195402299, 0.5333333333333333, 0.503448275862069, 0.4804597701149425, 0.5057471264367817, 0.5195402298850574, 0.5080459770114942, 0.5448275862068965, 0.496551724137931, 0.5011494252873563, 0.4896551724137931, 0.5011494252873563, 0.5057471264367817, 0.5011494252873563, 0.4781609195402299, 0.48735632183908045, 0.5103448275862069, 0.4781609195402299, 0.4827586206896552, 0.5333333333333333, 0.4850574712643678, 0.47126436781609193, 0.5149425287356322, 0.4896551724137931, 0.5379310344827586, 0.49195402298850577, 0.4804597701149425, 0.5218390804597701, 0.49885057471264366, 0.5218390804597701, 0.5195402298850574, 0.4827586206896552, 0.49195402298850577, 0.4942528735632184, 0.5379310344827586, 0.5379310344827586, 0.496551724137931, 0.49885057471264366, 0.4942528735632184, 0.5448275862068965, 0.49195402298850577, 0.4666666666666667, 0.4827586206896552, 0.4942528735632184, 0.503448275862069, 0.49195402298850577, 0.5126436781609195, 0.47586206896551725, 0.4942528735632184, 0.503448275862069, 0.49885057471264366, 0.5057471264367817, 0.5172413793103449, 0.496551724137931, 0.503448275862069, 0.4781609195402299, 0.5011494252873563, 0.4942528735632184, 0.4689655172413793, 0.5333333333333333, 0.47586206896551725, 0.5103448275862069, 0.4781609195402299, 0.5149425287356322, 0.5218390804597701, 0.5057471264367817, 0.5563218390804597, 0.5241379310344828, 0.46436781609195404, 0.4781609195402299, 0.5080459770114942, 0.5103448275862069, 0.503448275862069, 0.47586206896551725, 0.5080459770114942, 0.5103448275862069, 0.47586206896551725, 0.49885057471264366, 0.5172413793103449, 0.49885057471264366, 0.5172413793103449, 0.5471264367816092, 0.4482758620689655, 0.5310344827586206, 0.5080459770114942, 0.4735632183908046, 0.4804597701149425, 0.4735632183908046, 0.5172413793103449, 0.5172413793103449, 0.4942528735632184, 0.5080459770114942, 0.5195402298850574, 0.49885057471264366, 0.5563218390804597, 0.4896551724137931, 0.5218390804597701, 0.4804597701149425, 0.4942528735632184, 0.5080459770114942, 0.49195402298850577, 0.4942528735632184, 0.5195402298850574, 0.4666666666666667, 0.5149425287356322, 0.5287356321839081, 0.5241379310344828, 0.503448275862069, 0.4574712643678161, 0.4850574712643678, 0.4896551724137931, 0.4781609195402299, 0.5310344827586206, 0.4781609195402299, 0.4896551724137931, 0.5195402298850574, 0.5149425287356322, 0.5471264367816092, 0.5195402298850574, 0.4574712643678161, 0.5103448275862069, 0.5126436781609195, 0.4850574712643678, 0.5126436781609195, 0.5126436781609195, 0.4896551724137931, 0.4804597701149425, 0.4689655172413793, 0.4850574712643678, 0.5149425287356322, 0.43908045977011495, 0.48735632183908045, 0.5310344827586206, 0.49195402298850577, 0.49195402298850577, 0.4827586206896552, 0.47126436781609193, 0.5241379310344828, 0.4781609195402299, 0.5080459770114942, 0.48735632183908045, 0.503448275862069, 0.5747126436781609, 0.4781609195402299, 0.4781609195402299, 0.49195402298850577, 0.4896551724137931, 0.4827586206896552, 0.4482758620689655, 0.5011494252873563, 0.4781609195402299, 0.49195402298850577, 0.5172413793103449, 0.5241379310344828, 0.4482758620689655, 0.4827586206896552, 0.4666666666666667, 0.5287356321839081, 0.4827586206896552, 0.5080459770114942, 0.4942528735632184, 0.4781609195402299, 0.5103448275862069, 0.46436781609195404, 0.4850574712643678, 0.5103448275862069, 0.5264367816091954, 0.4574712643678161, 0.4735632183908046, 0.5379310344827586, 0.4574712643678161, 0.48735632183908045, 0.4942528735632184, 0.503448275862069, 0.49195402298850577, 0.5264367816091954, 0.5126436781609195, 0.4804597701149425, 0.4896551724137931, 0.46436781609195404, 0.46436781609195404, 0.5011494252873563, 0.5103448275862069, 0.49885057471264366, 0.503448275862069, 0.5333333333333333, 0.4827586206896552, 0.4896551724137931, 0.5287356321839081, 0.5126436781609195, 0.4850574712643678, 0.4528735632183908, 0.5655172413793104, 0.5172413793103449, 0.5011494252873563, 0.4896551724137931, 0.4827586206896552, 0.5126436781609195, 0.4781609195402299, 0.4459770114942529, 0.4781609195402299, 0.5333333333333333, 0.5126436781609195, 0.542528735632184, 0.49195402298850577, 0.5080459770114942, 0.5126436781609195, 0.47126436781609193, 0.5287356321839081, 0.4482758620689655, 0.5103448275862069, 0.503448275862069, 0.4528735632183908, 0.48735632183908045, 0.48735632183908045, 0.4689655172413793, 0.4804597701149425, 0.5080459770114942, 0.47126436781609193, 0.5310344827586206, 0.4666666666666667, 0.5172413793103449, 0.5103448275862069, 0.5011494252873563, 0.5333333333333333, 0.4850574712643678, 0.4804597701149425, 0.4942528735632184, 0.4850574712643678, 0.496551724137931, 0.5126436781609195, 0.5218390804597701, 0.5057471264367817, 0.47586206896551725, 0.46206896551724136, 0.5126436781609195, 0.48735632183908045, 0.5517241379310345, 0.5126436781609195, 0.45977011494252873, 0.4896551724137931, 0.5241379310344828, 0.496551724137931, 0.5471264367816092, 0.4942528735632184, 0.5011494252873563, 0.5149425287356322, 0.4896551724137931, 0.4827586206896552, 0.5057471264367817, 0.503448275862069, 0.503448275862069, 0.5011494252873563, 0.5103448275862069, 0.42758620689655175, 0.4666666666666667, 0.5103448275862069, 0.48735632183908045, 0.4735632183908046, 0.49885057471264366, 0.5287356321839081, 0.5402298850574713, 0.5126436781609195, 0.49195402298850577, 0.47586206896551725, 0.4482758620689655, 0.4666666666666667, 0.45517241379310347, 0.4781609195402299, 0.5241379310344828, 0.46206896551724136, 0.4942528735632184, 0.4482758620689655, 0.47126436781609193, 0.4850574712643678, 0.5241379310344828, 0.4689655172413793, 0.503448275862069, 0.4896551724137931, 0.4781609195402299, 0.5149425287356322, 0.48735632183908045, 0.4827586206896552, 0.47586206896551725, 0.503448275862069, 0.5172413793103449, 0.5011494252873563, 0.5264367816091954, 0.45977011494252873, 0.4896551724137931, 0.5080459770114942, 0.5011494252873563, 0.4896551724137931, 0.45977011494252873, 0.5103448275862069, 0.496551724137931, 0.4942528735632184, 0.496551724137931, 0.45977011494252873, 0.5218390804597701, 0.4804597701149425, 0.5057471264367817, 0.5057471264367817, 0.49195402298850577, 0.4735632183908046, 0.5172413793103449, 0.4827586206896552, 0.5287356321839081, 0.496551724137931, 0.5195402298850574, 0.4367816091954023, 0.5379310344827586, 0.4896551724137931, 0.5494252873563218, 0.45977011494252873, 0.5103448275862069, 0.46206896551724136, 0.5195402298850574, 0.5057471264367817, 0.5149425287356322, 0.4781609195402299, 0.4850574712643678, 0.5103448275862069, 0.5448275862068965, 0.5080459770114942, 0.47126436781609193, 0.5103448275862069, 0.496551724137931, 0.4666666666666667, 0.432183908045977, 0.4781609195402299, 0.45977011494252873, 0.5011494252873563, 0.4735632183908046, 0.48735632183908045, 0.49885057471264366, 0.496551724137931, 0.5057471264367817, 0.48735632183908045, 0.5540229885057472, 0.496551724137931, 0.5172413793103449, 0.5080459770114942, 0.535632183908046, 0.49885057471264366, 0.5057471264367817, 0.49885057471264366, 0.47586206896551725, 0.5080459770114942, 0.4804597701149425, 0.5149425287356322, 0.503448275862069, 0.46436781609195404, 0.5816091954022988, 0.49885057471264366, 0.5195402298850574, 0.5057471264367817, 0.4896551724137931, 0.5011494252873563, 0.503448275862069, 0.5172413793103449, 0.47126436781609193, 0.5172413793103449, 0.4781609195402299, 0.5080459770114942, 0.49885057471264366, 0.5287356321839081, 0.5057471264367817, 0.5264367816091954, 0.49195402298850577, 0.496551724137931, 0.5195402298850574, 0.4827586206896552, 0.4850574712643678, 0.542528735632184, 0.503448275862069, 0.4735632183908046, 0.503448275862069, 0.4827586206896552, 0.503448275862069, 0.47586206896551725, 0.4574712643678161, 0.46436781609195404, 0.4942528735632184, 0.46206896551724136, 0.48735632183908045, 0.4735632183908046, 0.4850574712643678, 0.5264367816091954, 0.5149425287356322, 0.5218390804597701, 0.503448275862069, 0.5195402298850574, 0.5103448275862069, 0.5264367816091954, 0.5816091954022988, 0.45517241379310347, 0.5448275862068965, 0.5057471264367817, 0.4896551724137931, 0.5241379310344828, 0.48735632183908045, 0.5195402298850574, 0.4804597701149425, 0.4850574712643678, 0.4942528735632184, 0.4666666666666667, 0.542528735632184, 0.5195402298850574, 0.49885057471264366, 0.5586206896551724, 0.47126436781609193, 0.49195402298850577, 0.46206896551724136, 0.5402298850574713, 0.47586206896551725, 0.4896551724137931, 0.5195402298850574, 0.45977011494252873, 0.5241379310344828, 0.5494252873563218, 0.4781609195402299, 0.48735632183908045, 0.49885057471264366, 0.5057471264367817, 0.4896551724137931, 0.5057471264367817, 0.46206896551724136, 0.49885057471264366, 0.4896551724137931, 0.5103448275862069, 0.5287356321839081, 0.5057471264367817, 0.5103448275862069, 0.503448275862069, 0.5057471264367817, 0.49885057471264366, 0.46436781609195404, 0.5149425287356322, 0.5080459770114942, 0.5287356321839081, 0.4735632183908046, 0.5264367816091954, 0.4896551724137931, 0.46206896551724136, 0.4735632183908046, 0.49885057471264366, 0.5287356321839081, 0.47126436781609193, 0.4942528735632184, 0.48735632183908045, 0.535632183908046, 0.5218390804597701, 0.4850574712643678, 0.4689655172413793, 0.5011494252873563]\n"
          ],
          "name": "stdout"
        }
      ]
    },
    {
      "cell_type": "code",
      "metadata": {
        "id": "ayj7u0i4kY_l",
        "colab_type": "code",
        "colab": {
          "base_uri": "https://localhost:8080/",
          "height": 204
        },
        "outputId": "da2aac6b-cc8c-41c4-ce75-9a18ec4d1c2f"
      },
      "source": [
        "df = pd.DataFrame({'single_sample': one_sample})\n",
        "df.head()"
      ],
      "execution_count": 52,
      "outputs": [
        {
          "output_type": "execute_result",
          "data": {
            "text/html": [
              "<div>\n",
              "<style scoped>\n",
              "    .dataframe tbody tr th:only-of-type {\n",
              "        vertical-align: middle;\n",
              "    }\n",
              "\n",
              "    .dataframe tbody tr th {\n",
              "        vertical-align: top;\n",
              "    }\n",
              "\n",
              "    .dataframe thead th {\n",
              "        text-align: right;\n",
              "    }\n",
              "</style>\n",
              "<table border=\"1\" class=\"dataframe\">\n",
              "  <thead>\n",
              "    <tr style=\"text-align: right;\">\n",
              "      <th></th>\n",
              "      <th>single_sample</th>\n",
              "    </tr>\n",
              "  </thead>\n",
              "  <tbody>\n",
              "    <tr>\n",
              "      <th>0</th>\n",
              "      <td>1</td>\n",
              "    </tr>\n",
              "    <tr>\n",
              "      <th>1</th>\n",
              "      <td>0</td>\n",
              "    </tr>\n",
              "    <tr>\n",
              "      <th>2</th>\n",
              "      <td>1</td>\n",
              "    </tr>\n",
              "    <tr>\n",
              "      <th>3</th>\n",
              "      <td>0</td>\n",
              "    </tr>\n",
              "    <tr>\n",
              "      <th>4</th>\n",
              "      <td>1</td>\n",
              "    </tr>\n",
              "  </tbody>\n",
              "</table>\n",
              "</div>"
            ],
            "text/plain": [
              "   single_sample\n",
              "0              1\n",
              "1              0\n",
              "2              1\n",
              "3              0\n",
              "4              1"
            ]
          },
          "metadata": {
            "tags": []
          },
          "execution_count": 52
        }
      ]
    },
    {
      "cell_type": "code",
      "metadata": {
        "id": "cLe8yLgekjHd",
        "colab_type": "code",
        "colab": {
          "base_uri": "https://localhost:8080/",
          "height": 265
        },
        "outputId": "0ddddb4a-0ccd-4553-ba71-3b7d91a8625c"
      },
      "source": [
        "df.single_sample.hist();"
      ],
      "execution_count": 53,
      "outputs": [
        {
          "output_type": "display_data",
          "data": {
            "image/png": "[encoded data removed]",
            "text/plain": [
              "<Figure size 432x288 with 1 Axes>"
            ]
          },
          "metadata": {
            "tags": []
          }
        }
      ]
    },
    {
      "cell_type": "code",
      "metadata": {
        "id": "tcL2SxUskol3",
        "colab_type": "code",
        "colab": {
          "base_uri": "https://localhost:8080/",
          "height": 296
        },
        "outputId": "785d4563-9db3-444c-d783-1f0381bbabf2"
      },
      "source": [
        "import matplotlib.pyplot as plt\n",
        "ax = plt.hist(sample_means, bins=11)\n",
        "plt.title('Distribution of 3000 sample means \\n (of crimes each)');"
      ],
      "execution_count": 54,
      "outputs": [
        {
          "output_type": "display_data",
          "data": {
            "image/png": "[encoded data removed]",
            "text/plain": [
              "<Figure size 432x288 with 1 Axes>"
            ]
          },
          "metadata": {
            "tags": []
          }
        }
      ]
    },
    {
      "cell_type": "code",
      "metadata": {
        "id": "HwDsMGcwk8aO",
        "colab_type": "code",
        "colab": {}
      },
      "source": [
        ""
      ],
      "execution_count": 0,
      "outputs": []
    },
    {
      "cell_type": "markdown",
      "metadata": {
        "id": "l_LIEvQYk84M",
        "colab_type": "text"
      },
      "source": [
        "3"
      ]
    },
    {
      "cell_type": "code",
      "metadata": {
        "id": "4heBS8Yjk-je",
        "colab_type": "code",
        "colab": {
          "base_uri": "https://localhost:8080/",
          "height": 71
        },
        "outputId": "dc6ffd16-7e1e-4c22-ef08-1b5c90009286"
      },
      "source": [
        "sample_means_small = []\n",
        "sample_means_large = []\n",
        "for x in range(0,3000):\n",
        "  df['crime'] = np.random.binomial(n=1, p=.5, size=435)\n",
        "  df['crime']= np.random.binomial(n=1, p=.5, size=435)\n",
        "  one_small_sample = df['crime']\n",
        "  one_small_large = df['crime']\n",
        "  sample_means_small.append(df['crime'].mean())\n",
        "  sample_means_large.append(df['crime'].mean())\n",
        "\n",
        "print(len(sample_means_small))\n",
        "print(sample_means_small)"
      ],
      "execution_count": 58,
      "outputs": [
        {
          "output_type": "stream",
          "text": [
            "3000\n",
            "[0.4896551724137931, 0.496551724137931, 0.4827586206896552, 0.5011494252873563, 0.49195402298850577, 0.5540229885057472, 0.47126436781609193, 0.4666666666666667, 0.5310344827586206, 0.5402298850574713, 0.503448275862069, 0.5149425287356322, 0.503448275862069, 0.5172413793103449, 0.4850574712643678, 0.5103448275862069, 0.5195402298850574, 0.5103448275862069, 0.4942528735632184, 0.5149425287356322, 0.5011494252873563, 0.5080459770114942, 0.5287356321839081, 0.4942528735632184, 0.5402298850574713, 0.5011494252873563, 0.503448275862069, 0.5149425287356322, 0.5126436781609195, 0.49195402298850577, 0.4896551724137931, 0.5011494252873563, 0.5379310344827586, 0.46436781609195404, 0.5310344827586206, 0.48735632183908045, 0.4827586206896552, 0.4781609195402299, 0.4827586206896552, 0.5195402298850574, 0.5333333333333333, 0.5287356321839081, 0.5057471264367817, 0.4850574712643678, 0.5218390804597701, 0.5264367816091954, 0.5172413793103449, 0.5126436781609195, 0.503448275862069, 0.5287356321839081, 0.4827586206896552, 0.4689655172413793, 0.5287356321839081, 0.5149425287356322, 0.5080459770114942, 0.5126436781609195, 0.5264367816091954, 0.5172413793103449, 0.5264367816091954, 0.4804597701149425, 0.535632183908046, 0.4781609195402299, 0.5057471264367817, 0.48735632183908045, 0.5057471264367817, 0.4804597701149425, 0.5241379310344828, 0.4827586206896552, 0.4459770114942529, 0.47586206896551725, 0.5172413793103449, 0.535632183908046, 0.5379310344827586, 0.4942528735632184, 0.5080459770114942, 0.49195402298850577, 0.49195402298850577, 0.5402298850574713, 0.5586206896551724, 0.5333333333333333, 0.5264367816091954, 0.5310344827586206, 0.4942528735632184, 0.5471264367816092, 0.4781609195402299, 0.49195402298850577, 0.49195402298850577, 0.5080459770114942, 0.5103448275862069, 0.503448275862069, 0.4942528735632184, 0.5218390804597701, 0.48735632183908045, 0.496551724137931, 0.4942528735632184, 0.5172413793103449, 0.5149425287356322, 0.5471264367816092, 0.5011494252873563, 0.4942528735632184, 0.5218390804597701, 0.4781609195402299, 0.5126436781609195, 0.4804597701149425, 0.5333333333333333, 0.5241379310344828, 0.4896551724137931, 0.5540229885057472, 0.5057471264367817, 0.5149425287356322, 0.5126436781609195, 0.48735632183908045, 0.4804597701149425, 0.46436781609195404, 0.5011494252873563, 0.535632183908046, 0.5241379310344828, 0.5126436781609195, 0.48735632183908045, 0.4827586206896552, 0.4827586206896552, 0.5149425287356322, 0.47586206896551725, 0.4942528735632184, 0.4896551724137931, 0.4781609195402299, 0.5011494252873563, 0.4942528735632184, 0.4781609195402299, 0.4689655172413793, 0.48735632183908045, 0.48735632183908045, 0.5149425287356322, 0.4850574712643678, 0.5080459770114942, 0.503448275862069, 0.5218390804597701, 0.4896551724137931, 0.4666666666666667, 0.4942528735632184, 0.5080459770114942, 0.48735632183908045, 0.5126436781609195, 0.5310344827586206, 0.5103448275862069, 0.5241379310344828, 0.5080459770114942, 0.5080459770114942, 0.47126436781609193, 0.4482758620689655, 0.45977011494252873, 0.5172413793103449, 0.5057471264367817, 0.4804597701149425, 0.49885057471264366, 0.496551724137931, 0.45517241379310347, 0.49885057471264366, 0.4781609195402299, 0.4735632183908046, 0.46206896551724136, 0.45517241379310347, 0.49885057471264366, 0.45057471264367815, 0.4896551724137931, 0.49195402298850577, 0.4827586206896552, 0.4850574712643678, 0.5080459770114942, 0.4942528735632184, 0.4666666666666667, 0.496551724137931, 0.542528735632184, 0.4804597701149425, 0.5241379310344828, 0.4850574712643678, 0.49195402298850577, 0.4896551724137931, 0.5057471264367817, 0.5011494252873563, 0.4942528735632184, 0.5471264367816092, 0.48735632183908045, 0.4827586206896552, 0.503448275862069, 0.48735632183908045, 0.4850574712643678, 0.5264367816091954, 0.5195402298850574, 0.5103448275862069, 0.49195402298850577, 0.4666666666666667, 0.5103448275862069, 0.4459770114942529, 0.5333333333333333, 0.496551724137931, 0.5586206896551724, 0.4804597701149425, 0.5057471264367817, 0.4827586206896552, 0.5241379310344828, 0.5379310344827586, 0.5103448275862069, 0.47586206896551725, 0.49885057471264366, 0.49195402298850577, 0.5080459770114942, 0.503448275862069, 0.4850574712643678, 0.4850574712643678, 0.5448275862068965, 0.49195402298850577, 0.49885057471264366, 0.496551724137931, 0.4689655172413793, 0.5195402298850574, 0.4942528735632184, 0.4781609195402299, 0.49885057471264366, 0.5126436781609195, 0.4735632183908046, 0.5080459770114942, 0.47586206896551725, 0.535632183908046, 0.4528735632183908, 0.4896551724137931, 0.4942528735632184, 0.5080459770114942, 0.5402298850574713, 0.542528735632184, 0.47586206896551725, 0.5517241379310345, 0.496551724137931, 0.4528735632183908, 0.49885057471264366, 0.5057471264367817, 0.5310344827586206, 0.48735632183908045, 0.5149425287356322, 0.5379310344827586, 0.47586206896551725, 0.503448275862069, 0.5080459770114942, 0.5080459770114942, 0.5126436781609195, 0.4574712643678161, 0.5011494252873563, 0.4850574712643678, 0.5057471264367817, 0.5333333333333333, 0.46206896551724136, 0.5172413793103449, 0.503448275862069, 0.5172413793103449, 0.5149425287356322, 0.4781609195402299, 0.5379310344827586, 0.5057471264367817, 0.4689655172413793, 0.4850574712643678, 0.5126436781609195, 0.5149425287356322, 0.4804597701149425, 0.503448275862069, 0.5126436781609195, 0.5241379310344828, 0.4896551724137931, 0.5149425287356322, 0.5057471264367817, 0.5080459770114942, 0.48735632183908045, 0.4666666666666667, 0.5218390804597701, 0.49195402298850577, 0.5080459770114942, 0.5287356321839081, 0.5333333333333333, 0.542528735632184, 0.5195402298850574, 0.496551724137931, 0.5011494252873563, 0.4850574712643678, 0.5080459770114942, 0.5011494252873563, 0.4781609195402299, 0.4896551724137931, 0.49885057471264366, 0.5517241379310345, 0.496551724137931, 0.5517241379310345, 0.4735632183908046, 0.5287356321839081, 0.4942528735632184, 0.5149425287356322, 0.5287356321839081, 0.535632183908046, 0.5057471264367817, 0.4298850574712644, 0.4666666666666667, 0.45517241379310347, 0.496551724137931, 0.49885057471264366, 0.46436781609195404, 0.4689655172413793, 0.5195402298850574, 0.5379310344827586, 0.47586206896551725, 0.5126436781609195, 0.49195402298850577, 0.49195402298850577, 0.4942528735632184, 0.49195402298850577, 0.5080459770114942, 0.496551724137931, 0.4850574712643678, 0.5103448275862069, 0.49195402298850577, 0.49885057471264366, 0.48735632183908045, 0.49195402298850577, 0.4666666666666667, 0.5448275862068965, 0.49885057471264366, 0.5080459770114942, 0.49195402298850577, 0.4482758620689655, 0.5149425287356322, 0.5195402298850574, 0.5287356321839081, 0.5448275862068965, 0.4896551724137931, 0.47126436781609193, 0.45977011494252873, 0.49885057471264366, 0.5287356321839081, 0.4735632183908046, 0.5172413793103449, 0.5218390804597701, 0.5609195402298851, 0.5471264367816092, 0.5011494252873563, 0.5172413793103449, 0.4942528735632184, 0.5195402298850574, 0.5057471264367817, 0.4735632183908046, 0.47126436781609193, 0.4896551724137931, 0.4896551724137931, 0.4804597701149425, 0.503448275862069, 0.49195402298850577, 0.4942528735632184, 0.535632183908046, 0.5126436781609195, 0.5609195402298851, 0.503448275862069, 0.503448275862069, 0.5172413793103449, 0.5011494252873563, 0.542528735632184, 0.4482758620689655, 0.5218390804597701, 0.5172413793103449, 0.49885057471264366, 0.48735632183908045, 0.535632183908046, 0.5195402298850574, 0.4896551724137931, 0.5287356321839081, 0.496551724137931, 0.4781609195402299, 0.5011494252873563, 0.5195402298850574, 0.5287356321839081, 0.5287356321839081, 0.4850574712643678, 0.5241379310344828, 0.47586206896551725, 0.49885057471264366, 0.5011494252873563, 0.5172413793103449, 0.5310344827586206, 0.4781609195402299, 0.49885057471264366, 0.5149425287356322, 0.49885057471264366, 0.5310344827586206, 0.5103448275862069, 0.5218390804597701, 0.48735632183908045, 0.496551724137931, 0.4574712643678161, 0.5103448275862069, 0.4735632183908046, 0.4804597701149425, 0.5264367816091954, 0.5149425287356322, 0.46436781609195404, 0.5149425287356322, 0.4850574712643678, 0.47586206896551725, 0.4781609195402299, 0.49195402298850577, 0.5310344827586206, 0.5218390804597701, 0.4896551724137931, 0.5080459770114942, 0.5126436781609195, 0.5126436781609195, 0.4574712643678161, 0.4942528735632184, 0.4850574712643678, 0.48735632183908045, 0.4942528735632184, 0.46436781609195404, 0.49885057471264366, 0.4827586206896552, 0.4942528735632184, 0.5011494252873563, 0.5080459770114942, 0.5195402298850574, 0.46436781609195404, 0.5103448275862069, 0.49195402298850577, 0.4896551724137931, 0.5287356321839081, 0.503448275862069, 0.535632183908046, 0.5080459770114942, 0.5287356321839081, 0.4850574712643678, 0.5126436781609195, 0.4942528735632184, 0.4896551724137931, 0.503448275862069, 0.46436781609195404, 0.503448275862069, 0.48735632183908045, 0.4850574712643678, 0.5080459770114942, 0.4942528735632184, 0.5218390804597701, 0.4206896551724138, 0.5218390804597701, 0.496551724137931, 0.4942528735632184, 0.5057471264367817, 0.503448275862069, 0.5517241379310345, 0.5103448275862069, 0.5011494252873563, 0.5195402298850574, 0.5264367816091954, 0.47586206896551725, 0.5080459770114942, 0.46206896551724136, 0.496551724137931, 0.46436781609195404, 0.5057471264367817, 0.5149425287356322, 0.5218390804597701, 0.5126436781609195, 0.46436781609195404, 0.4827586206896552, 0.5057471264367817, 0.503448275862069, 0.5149425287356322, 0.45977011494252873, 0.49195402298850577, 0.45517241379310347, 0.5149425287356322, 0.496551724137931, 0.5195402298850574, 0.5241379310344828, 0.46206896551724136, 0.5264367816091954, 0.47586206896551725, 0.48735632183908045, 0.5057471264367817, 0.4781609195402299, 0.5241379310344828, 0.4666666666666667, 0.5287356321839081, 0.5149425287356322, 0.46436781609195404, 0.4804597701149425, 0.46436781609195404, 0.5448275862068965, 0.4781609195402299, 0.4942528735632184, 0.5218390804597701, 0.496551724137931, 0.47586206896551725, 0.496551724137931, 0.5172413793103449, 0.4942528735632184, 0.5218390804597701, 0.4942528735632184, 0.5011494252873563, 0.503448275862069, 0.4850574712643678, 0.47586206896551725, 0.47126436781609193, 0.48735632183908045, 0.4666666666666667, 0.4827586206896552, 0.4781609195402299, 0.5218390804597701, 0.5057471264367817, 0.4804597701149425, 0.5586206896551724, 0.46206896551724136, 0.496551724137931, 0.5218390804597701, 0.4804597701149425, 0.496551724137931, 0.5310344827586206, 0.46436781609195404, 0.5057471264367817, 0.45517241379310347, 0.4850574712643678, 0.49195402298850577, 0.503448275862069, 0.4666666666666667, 0.49885057471264366, 0.45057471264367815, 0.503448275862069, 0.47126436781609193, 0.5402298850574713, 0.49195402298850577, 0.48735632183908045, 0.46206896551724136, 0.5448275862068965, 0.4781609195402299, 0.4735632183908046, 0.46206896551724136, 0.48735632183908045, 0.5195402298850574, 0.4459770114942529, 0.4781609195402299, 0.4735632183908046, 0.5333333333333333, 0.5149425287356322, 0.47586206896551725, 0.4735632183908046, 0.5172413793103449, 0.5402298850574713, 0.503448275862069, 0.5172413793103449, 0.5264367816091954, 0.503448275862069, 0.503448275862069, 0.496551724137931, 0.5264367816091954, 0.4666666666666667, 0.49195402298850577, 0.47586206896551725, 0.47126436781609193, 0.4896551724137931, 0.5287356321839081, 0.4781609195402299, 0.4850574712643678, 0.5126436781609195, 0.5080459770114942, 0.47586206896551725, 0.49885057471264366, 0.5287356321839081, 0.5172413793103449, 0.4827586206896552, 0.5310344827586206, 0.5011494252873563, 0.5195402298850574, 0.5195402298850574, 0.503448275862069, 0.5126436781609195, 0.5057471264367817, 0.496551724137931, 0.5172413793103449, 0.4827586206896552, 0.5172413793103449, 0.5333333333333333, 0.5011494252873563, 0.5149425287356322, 0.5149425287356322, 0.4942528735632184, 0.4666666666666667, 0.4781609195402299, 0.4735632183908046, 0.4666666666666667, 0.5333333333333333, 0.5057471264367817, 0.45977011494252873, 0.5172413793103449, 0.5264367816091954, 0.503448275862069, 0.47586206896551725, 0.4850574712643678, 0.5195402298850574, 0.5287356321839081, 0.5011494252873563, 0.5103448275862069, 0.49885057471264366, 0.535632183908046, 0.5149425287356322, 0.47586206896551725, 0.49195402298850577, 0.48735632183908045, 0.4735632183908046, 0.5517241379310345, 0.47586206896551725, 0.5103448275862069, 0.5011494252873563, 0.5057471264367817, 0.49195402298850577, 0.4942528735632184, 0.496551724137931, 0.5264367816091954, 0.46436781609195404, 0.5103448275862069, 0.48735632183908045, 0.5011494252873563, 0.5310344827586206, 0.4735632183908046, 0.5149425287356322, 0.48735632183908045, 0.4827586206896552, 0.5011494252873563, 0.48735632183908045, 0.496551724137931, 0.496551724137931, 0.4689655172413793, 0.5011494252873563, 0.4574712643678161, 0.4804597701149425, 0.5609195402298851, 0.5080459770114942, 0.5195402298850574, 0.5011494252873563, 0.4827586206896552, 0.5218390804597701, 0.4896551724137931, 0.43448275862068964, 0.5057471264367817, 0.4827586206896552, 0.503448275862069, 0.4896551724137931, 0.4896551724137931, 0.49195402298850577, 0.4827586206896552, 0.503448275862069, 0.5310344827586206, 0.5057471264367817, 0.4827586206896552, 0.4896551724137931, 0.5080459770114942, 0.5057471264367817, 0.46436781609195404, 0.5057471264367817, 0.542528735632184, 0.5379310344827586, 0.47126436781609193, 0.496551724137931, 0.5218390804597701, 0.4781609195402299, 0.49195402298850577, 0.4942528735632184, 0.49885057471264366, 0.49885057471264366, 0.4804597701149425, 0.5126436781609195, 0.5402298850574713, 0.49885057471264366, 0.4781609195402299, 0.496551724137931, 0.48735632183908045, 0.5149425287356322, 0.5057471264367817, 0.4804597701149425, 0.4896551724137931, 0.5195402298850574, 0.535632183908046, 0.46206896551724136, 0.4689655172413793, 0.4827586206896552, 0.49885057471264366, 0.5241379310344828, 0.5310344827586206, 0.5517241379310345, 0.5402298850574713, 0.4781609195402299, 0.5218390804597701, 0.4850574712643678, 0.5172413793103449, 0.4827586206896552, 0.5333333333333333, 0.5149425287356322, 0.503448275862069, 0.5126436781609195, 0.5586206896551724, 0.5126436781609195, 0.5218390804597701, 0.5517241379310345, 0.5287356321839081, 0.5080459770114942, 0.5195402298850574, 0.5448275862068965, 0.4942528735632184, 0.4666666666666667, 0.5149425287356322, 0.5172413793103449, 0.5195402298850574, 0.49195402298850577, 0.4781609195402299, 0.503448275862069, 0.5126436781609195, 0.5494252873563218, 0.4942528735632184, 0.5379310344827586, 0.47586206896551725, 0.47586206896551725, 0.5241379310344828, 0.496551724137931, 0.4804597701149425, 0.4850574712643678, 0.5103448275862069, 0.5149425287356322, 0.4735632183908046, 0.5287356321839081, 0.5264367816091954, 0.4804597701149425, 0.4804597701149425, 0.48735632183908045, 0.4781609195402299, 0.49885057471264366, 0.4804597701149425, 0.4827586206896552, 0.48735632183908045, 0.5080459770114942, 0.5103448275862069, 0.5195402298850574, 0.47126436781609193, 0.49195402298850577, 0.5172413793103449, 0.48735632183908045, 0.535632183908046, 0.4781609195402299, 0.5310344827586206, 0.5195402298850574, 0.4896551724137931, 0.5149425287356322, 0.5563218390804597, 0.46206896551724136, 0.4781609195402299, 0.5103448275862069, 0.48735632183908045, 0.5103448275862069, 0.4804597701149425, 0.5126436781609195, 0.5080459770114942, 0.5241379310344828, 0.496551724137931, 0.5402298850574713, 0.4942528735632184, 0.5057471264367817, 0.5195402298850574, 0.49195402298850577, 0.5080459770114942, 0.542528735632184, 0.5310344827586206, 0.5310344827586206, 0.49195402298850577, 0.5287356321839081, 0.49885057471264366, 0.503448275862069, 0.4804597701149425, 0.5126436781609195, 0.4827586206896552, 0.4574712643678161, 0.5310344827586206, 0.4896551724137931, 0.4574712643678161, 0.5172413793103449, 0.4942528735632184, 0.503448275862069, 0.4804597701149425, 0.47126436781609193, 0.5057471264367817, 0.5126436781609195, 0.5287356321839081, 0.5241379310344828, 0.4689655172413793, 0.49885057471264366, 0.4666666666666667, 0.48735632183908045, 0.5011494252873563, 0.5287356321839081, 0.5103448275862069, 0.5471264367816092, 0.4735632183908046, 0.4459770114942529, 0.5172413793103449, 0.4827586206896552, 0.5149425287356322, 0.5218390804597701, 0.4459770114942529, 0.4666666666666667, 0.5149425287356322, 0.5241379310344828, 0.5057471264367817, 0.4850574712643678, 0.49195402298850577, 0.49885057471264366, 0.4666666666666667, 0.503448275862069, 0.5287356321839081, 0.4666666666666667, 0.4850574712643678, 0.4942528735632184, 0.4942528735632184, 0.49885057471264366, 0.5011494252873563, 0.5057471264367817, 0.5264367816091954, 0.48735632183908045, 0.5126436781609195, 0.4436781609195402, 0.5172413793103449, 0.47586206896551725, 0.4827586206896552, 0.503448275862069, 0.4850574712643678, 0.5103448275862069, 0.49885057471264366, 0.45977011494252873, 0.4689655172413793, 0.47126436781609193, 0.47586206896551725, 0.496551724137931, 0.5287356321839081, 0.42528735632183906, 0.49195402298850577, 0.4436781609195402, 0.5080459770114942, 0.5264367816091954, 0.47586206896551725, 0.4528735632183908, 0.5011494252873563, 0.542528735632184, 0.5011494252873563, 0.47586206896551725, 0.4781609195402299, 0.4574712643678161, 0.4781609195402299, 0.48735632183908045, 0.4735632183908046, 0.5126436781609195, 0.4896551724137931, 0.5011494252873563, 0.46436781609195404, 0.5195402298850574, 0.5080459770114942, 0.4781609195402299, 0.5310344827586206, 0.5172413793103449, 0.5126436781609195, 0.49885057471264366, 0.496551724137931, 0.5103448275862069, 0.48735632183908045, 0.5241379310344828, 0.5816091954022988, 0.47126436781609193, 0.46436781609195404, 0.48735632183908045, 0.5218390804597701, 0.47586206896551725, 0.4896551724137931, 0.4666666666666667, 0.4689655172413793, 0.5080459770114942, 0.5264367816091954, 0.4804597701149425, 0.4804597701149425, 0.4689655172413793, 0.4850574712643678, 0.5195402298850574, 0.5287356321839081, 0.46436781609195404, 0.4896551724137931, 0.4574712643678161, 0.5126436781609195, 0.4666666666666667, 0.5103448275862069, 0.5609195402298851, 0.47586206896551725, 0.5080459770114942, 0.5379310344827586, 0.5310344827586206, 0.4942528735632184, 0.4666666666666667, 0.4827586206896552, 0.4942528735632184, 0.5057471264367817, 0.5195402298850574, 0.49885057471264366, 0.5080459770114942, 0.5103448275862069, 0.4942528735632184, 0.46436781609195404, 0.5540229885057472, 0.4781609195402299, 0.5494252873563218, 0.5218390804597701, 0.496551724137931, 0.4942528735632184, 0.5149425287356322, 0.4827586206896552, 0.47126436781609193, 0.503448275862069, 0.49885057471264366, 0.5126436781609195, 0.4850574712643678, 0.5172413793103449, 0.49885057471264366, 0.5172413793103449, 0.4850574712643678, 0.535632183908046, 0.496551724137931, 0.47126436781609193, 0.5126436781609195, 0.4459770114942529, 0.5103448275862069, 0.4735632183908046, 0.5172413793103449, 0.4528735632183908, 0.5126436781609195, 0.5195402298850574, 0.4367816091954023, 0.5310344827586206, 0.4804597701149425, 0.5103448275862069, 0.5011494252873563, 0.4666666666666667, 0.49195402298850577, 0.48735632183908045, 0.535632183908046, 0.535632183908046, 0.4896551724137931, 0.47586206896551725, 0.4942528735632184, 0.503448275862069, 0.5011494252873563, 0.4942528735632184, 0.5241379310344828, 0.5011494252873563, 0.5241379310344828, 0.46436781609195404, 0.5172413793103449, 0.5103448275862069, 0.4574712643678161, 0.5172413793103449, 0.5264367816091954, 0.496551724137931, 0.45977011494252873, 0.5379310344827586, 0.5011494252873563, 0.4896551724137931, 0.4735632183908046, 0.5494252873563218, 0.5103448275862069, 0.4804597701149425, 0.46206896551724136, 0.4896551724137931, 0.5011494252873563, 0.4804597701149425, 0.4689655172413793, 0.49195402298850577, 0.4666666666666667, 0.5287356321839081, 0.4850574712643678, 0.503448275862069, 0.5057471264367817, 0.49885057471264366, 0.5103448275862069, 0.5080459770114942, 0.46206896551724136, 0.5126436781609195, 0.5333333333333333, 0.5080459770114942, 0.4942528735632184, 0.5103448275862069, 0.5241379310344828, 0.4827586206896552, 0.4827586206896552, 0.5149425287356322, 0.49195402298850577, 0.4942528735632184, 0.5333333333333333, 0.49885057471264366, 0.4896551724137931, 0.5471264367816092, 0.5402298850574713, 0.535632183908046, 0.5218390804597701, 0.5540229885057472, 0.5080459770114942, 0.5195402298850574, 0.5080459770114942, 0.4850574712643678, 0.5333333333333333, 0.4896551724137931, 0.5103448275862069, 0.49195402298850577, 0.49195402298850577, 0.4689655172413793, 0.5126436781609195, 0.5172413793103449, 0.5126436781609195, 0.5080459770114942, 0.4942528735632184, 0.49885057471264366, 0.5241379310344828, 0.49195402298850577, 0.4804597701149425, 0.5126436781609195, 0.5080459770114942, 0.48735632183908045, 0.4574712643678161, 0.5057471264367817, 0.49195402298850577, 0.5264367816091954, 0.5195402298850574, 0.5287356321839081, 0.4781609195402299, 0.47586206896551725, 0.5080459770114942, 0.47586206896551725, 0.49885057471264366, 0.535632183908046, 0.4850574712643678, 0.432183908045977, 0.5057471264367817, 0.49195402298850577, 0.5241379310344828, 0.503448275862069, 0.5264367816091954, 0.49885057471264366, 0.5471264367816092, 0.542528735632184, 0.5264367816091954, 0.49195402298850577, 0.5218390804597701, 0.5080459770114942, 0.46436781609195404, 0.5333333333333333, 0.5218390804597701, 0.5080459770114942, 0.503448275862069, 0.5218390804597701, 0.5609195402298851, 0.5241379310344828, 0.48735632183908045, 0.5379310344827586, 0.5195402298850574, 0.49885057471264366, 0.5195402298850574, 0.5103448275862069, 0.4459770114942529, 0.5057471264367817, 0.4896551724137931, 0.5057471264367817, 0.4528735632183908, 0.48735632183908045, 0.5195402298850574, 0.5448275862068965, 0.5195402298850574, 0.4804597701149425, 0.4942528735632184, 0.4804597701149425, 0.5310344827586206, 0.4942528735632184, 0.5103448275862069, 0.542528735632184, 0.5057471264367817, 0.5241379310344828, 0.5379310344827586, 0.503448275862069, 0.4942528735632184, 0.47586206896551725, 0.5126436781609195, 0.4781609195402299, 0.49885057471264366, 0.503448275862069, 0.4804597701149425, 0.5195402298850574, 0.5103448275862069, 0.4574712643678161, 0.496551724137931, 0.49885057471264366, 0.4735632183908046, 0.5402298850574713, 0.5103448275862069, 0.496551724137931, 0.5126436781609195, 0.49885057471264366, 0.5149425287356322, 0.4482758620689655, 0.46436781609195404, 0.4528735632183908, 0.5241379310344828, 0.5080459770114942, 0.4896551724137931, 0.5057471264367817, 0.5149425287356322, 0.503448275862069, 0.5333333333333333, 0.5264367816091954, 0.5218390804597701, 0.4436781609195402, 0.5057471264367817, 0.5333333333333333, 0.5333333333333333, 0.5057471264367817, 0.5057471264367817, 0.4735632183908046, 0.49195402298850577, 0.5310344827586206, 0.5103448275862069, 0.5103448275862069, 0.46206896551724136, 0.49195402298850577, 0.47126436781609193, 0.5218390804597701, 0.5218390804597701, 0.46206896551724136, 0.5241379310344828, 0.4781609195402299, 0.5149425287356322, 0.4804597701149425, 0.5172413793103449, 0.4735632183908046, 0.5471264367816092, 0.5011494252873563, 0.5333333333333333, 0.5057471264367817, 0.4896551724137931, 0.4574712643678161, 0.5172413793103449, 0.4942528735632184, 0.49195402298850577, 0.5448275862068965, 0.48735632183908045, 0.5126436781609195, 0.5172413793103449, 0.4942528735632184, 0.5103448275862069, 0.48735632183908045, 0.5241379310344828, 0.5195402298850574, 0.5103448275862069, 0.48735632183908045, 0.503448275862069, 0.46436781609195404, 0.5333333333333333, 0.5011494252873563, 0.5310344827586206, 0.5103448275862069, 0.496551724137931, 0.5609195402298851, 0.503448275862069, 0.5333333333333333, 0.4942528735632184, 0.5172413793103449, 0.5011494252873563, 0.48735632183908045, 0.5172413793103449, 0.5126436781609195, 0.49885057471264366, 0.47126436781609193, 0.5218390804597701, 0.5264367816091954, 0.49195402298850577, 0.5011494252873563, 0.5195402298850574, 0.48735632183908045, 0.542528735632184, 0.5218390804597701, 0.5149425287356322, 0.4528735632183908, 0.5057471264367817, 0.5264367816091954, 0.5103448275862069, 0.49195402298850577, 0.4666666666666667, 0.496551724137931, 0.5149425287356322, 0.5011494252873563, 0.48735632183908045, 0.5011494252873563, 0.5218390804597701, 0.5080459770114942, 0.4850574712643678, 0.45517241379310347, 0.5241379310344828, 0.47126436781609193, 0.45977011494252873, 0.503448275862069, 0.5011494252873563, 0.542528735632184, 0.5172413793103449, 0.4436781609195402, 0.5126436781609195, 0.4804597701149425, 0.5057471264367817, 0.49195402298850577, 0.5080459770114942, 0.46206896551724136, 0.49885057471264366, 0.4436781609195402, 0.496551724137931, 0.48735632183908045, 0.48735632183908045, 0.49885057471264366, 0.4850574712643678, 0.5218390804597701, 0.5011494252873563, 0.49195402298850577, 0.4781609195402299, 0.5057471264367817, 0.4459770114942529, 0.5011494252873563, 0.4942528735632184, 0.5218390804597701, 0.4827586206896552, 0.46436781609195404, 0.5241379310344828, 0.5149425287356322, 0.5172413793103449, 0.49885057471264366, 0.4827586206896552, 0.5448275862068965, 0.5195402298850574, 0.5379310344827586, 0.4666666666666667, 0.5402298850574713, 0.5126436781609195, 0.4827586206896552, 0.48735632183908045, 0.45977011494252873, 0.49885057471264366, 0.5586206896551724, 0.46206896551724136, 0.5172413793103449, 0.5057471264367817, 0.4850574712643678, 0.5195402298850574, 0.496551724137931, 0.45517241379310347, 0.4827586206896552, 0.49885057471264366, 0.49885057471264366, 0.5103448275862069, 0.5241379310344828, 0.5172413793103449, 0.5011494252873563, 0.535632183908046, 0.4896551724137931, 0.5149425287356322, 0.5103448275862069, 0.5057471264367817, 0.47126436781609193, 0.4666666666666667, 0.5264367816091954, 0.48735632183908045, 0.496551724137931, 0.5218390804597701, 0.5011494252873563, 0.496551724137931, 0.4942528735632184, 0.4942528735632184, 0.496551724137931, 0.5379310344827586, 0.503448275862069, 0.4896551724137931, 0.503448275862069, 0.47126436781609193, 0.4942528735632184, 0.5103448275862069, 0.5310344827586206, 0.5126436781609195, 0.5011494252873563, 0.4781609195402299, 0.5172413793103449, 0.5103448275862069, 0.4735632183908046, 0.503448275862069, 0.496551724137931, 0.4528735632183908, 0.5264367816091954, 0.5333333333333333, 0.5264367816091954, 0.503448275862069, 0.5149425287356322, 0.5080459770114942, 0.5264367816091954, 0.4735632183908046, 0.49195402298850577, 0.5172413793103449, 0.4942528735632184, 0.4781609195402299, 0.5149425287356322, 0.45057471264367815, 0.4735632183908046, 0.542528735632184, 0.5264367816091954, 0.4574712643678161, 0.5080459770114942, 0.49885057471264366, 0.5126436781609195, 0.4942528735632184, 0.5057471264367817, 0.48735632183908045, 0.49195402298850577, 0.4781609195402299, 0.5287356321839081, 0.503448275862069, 0.5264367816091954, 0.5264367816091954, 0.5264367816091954, 0.4827586206896552, 0.5287356321839081, 0.542528735632184, 0.5241379310344828, 0.45057471264367815, 0.4781609195402299, 0.47126436781609193, 0.4942528735632184, 0.4896551724137931, 0.5103448275862069, 0.4850574712643678, 0.5287356321839081, 0.4781609195402299, 0.542528735632184, 0.5011494252873563, 0.5172413793103449, 0.48735632183908045, 0.535632183908046, 0.4827586206896552, 0.47126436781609193, 0.503448275862069, 0.5218390804597701, 0.5057471264367817, 0.496551724137931, 0.47126436781609193, 0.4896551724137931, 0.5011494252873563, 0.4804597701149425, 0.5172413793103449, 0.4942528735632184, 0.5126436781609195, 0.47586206896551725, 0.4896551724137931, 0.5011494252873563, 0.4804597701149425, 0.4804597701149425, 0.5126436781609195, 0.45517241379310347, 0.5172413793103449, 0.5080459770114942, 0.496551724137931, 0.5103448275862069, 0.49885057471264366, 0.5103448275862069, 0.47126436781609193, 0.49195402298850577, 0.4827586206896552, 0.4206896551724138, 0.5126436781609195, 0.5218390804597701, 0.49195402298850577, 0.4942528735632184, 0.4666666666666667, 0.47126436781609193, 0.46436781609195404, 0.4781609195402299, 0.49885057471264366, 0.46436781609195404, 0.46206896551724136, 0.5241379310344828, 0.5241379310344828, 0.5080459770114942, 0.4827586206896552, 0.5333333333333333, 0.4850574712643678, 0.4574712643678161, 0.4666666666666667, 0.4804597701149425, 0.4850574712643678, 0.4896551724137931, 0.48735632183908045, 0.5379310344827586, 0.49885057471264366, 0.4827586206896552, 0.5103448275862069, 0.4735632183908046, 0.5264367816091954, 0.47586206896551725, 0.4896551724137931, 0.49195402298850577, 0.5287356321839081, 0.5011494252873563, 0.4804597701149425, 0.4942528735632184, 0.5333333333333333, 0.5333333333333333, 0.46436781609195404, 0.49885057471264366, 0.47126436781609193, 0.5126436781609195, 0.5218390804597701, 0.5103448275862069, 0.503448275862069, 0.4735632183908046, 0.4850574712643678, 0.4942528735632184, 0.5333333333333333, 0.5149425287356322, 0.49195402298850577, 0.5172413793103449, 0.535632183908046, 0.4942528735632184, 0.542528735632184, 0.496551724137931, 0.4781609195402299, 0.49885057471264366, 0.5195402298850574, 0.5057471264367817, 0.496551724137931, 0.4459770114942529, 0.5103448275862069, 0.46436781609195404, 0.5379310344827586, 0.5402298850574713, 0.503448275862069, 0.5241379310344828, 0.46436781609195404, 0.5149425287356322, 0.5218390804597701, 0.5011494252873563, 0.5011494252873563, 0.5172413793103449, 0.48735632183908045, 0.5126436781609195, 0.48735632183908045, 0.496551724137931, 0.5126436781609195, 0.5103448275862069, 0.4827586206896552, 0.535632183908046, 0.5080459770114942, 0.5218390804597701, 0.5103448275862069, 0.4827586206896552, 0.5241379310344828, 0.45057471264367815, 0.48735632183908045, 0.4942528735632184, 0.5057471264367817, 0.5057471264367817, 0.4850574712643678, 0.49195402298850577, 0.47126436781609193, 0.5195402298850574, 0.5080459770114942, 0.46206896551724136, 0.503448275862069, 0.5195402298850574, 0.4850574712643678, 0.5195402298850574, 0.5103448275862069, 0.47126436781609193, 0.5172413793103449, 0.5172413793103449, 0.5402298850574713, 0.4827586206896552, 0.5517241379310345, 0.542528735632184, 0.496551724137931, 0.47586206896551725, 0.4942528735632184, 0.5011494252873563, 0.5011494252873563, 0.4689655172413793, 0.47126436781609193, 0.5080459770114942, 0.4896551724137931, 0.47586206896551725, 0.4781609195402299, 0.4942528735632184, 0.46436781609195404, 0.49885057471264366, 0.49195402298850577, 0.4942528735632184, 0.47586206896551725, 0.4850574712643678, 0.4942528735632184, 0.5057471264367817, 0.45057471264367815, 0.5218390804597701, 0.46206896551724136, 0.4781609195402299, 0.49195402298850577, 0.4850574712643678, 0.5172413793103449, 0.49885057471264366, 0.4827586206896552, 0.49195402298850577, 0.5149425287356322, 0.48735632183908045, 0.47126436781609193, 0.49885057471264366, 0.5126436781609195, 0.5057471264367817, 0.49195402298850577, 0.49885057471264366, 0.5011494252873563, 0.5241379310344828, 0.503448275862069, 0.5218390804597701, 0.5218390804597701, 0.49195402298850577, 0.496551724137931, 0.496551724137931, 0.49885057471264366, 0.5402298850574713, 0.47586206896551725, 0.496551724137931, 0.4689655172413793, 0.5103448275862069, 0.4574712643678161, 0.49885057471264366, 0.4850574712643678, 0.49195402298850577, 0.5218390804597701, 0.5218390804597701, 0.49885057471264366, 0.5287356321839081, 0.4827586206896552, 0.5218390804597701, 0.535632183908046, 0.49885057471264366, 0.49195402298850577, 0.49195402298850577, 0.5448275862068965, 0.5126436781609195, 0.5333333333333333, 0.4827586206896552, 0.5057471264367817, 0.45977011494252873, 0.47586206896551725, 0.5080459770114942, 0.5241379310344828, 0.49195402298850577, 0.5126436781609195, 0.503448275862069, 0.5241379310344828, 0.4827586206896552, 0.4827586206896552, 0.5011494252873563, 0.4942528735632184, 0.5080459770114942, 0.4896551724137931, 0.5218390804597701, 0.4735632183908046, 0.48735632183908045, 0.49195402298850577, 0.4781609195402299, 0.542528735632184, 0.4804597701149425, 0.5379310344827586, 0.4459770114942529, 0.5057471264367817, 0.4896551724137931, 0.4459770114942529, 0.45517241379310347, 0.4781609195402299, 0.4689655172413793, 0.5080459770114942, 0.5149425287356322, 0.5080459770114942, 0.5195402298850574, 0.4850574712643678, 0.4850574712643678, 0.5057471264367817, 0.4666666666666667, 0.503448275862069, 0.47586206896551725, 0.5172413793103449, 0.45977011494252873, 0.4827586206896552, 0.46206896551724136, 0.5149425287356322, 0.5402298850574713, 0.5149425287356322, 0.49885057471264366, 0.5080459770114942, 0.45057471264367815, 0.4666666666666667, 0.4850574712643678, 0.5057471264367817, 0.496551724137931, 0.4827586206896552, 0.47586206896551725, 0.49195402298850577, 0.5218390804597701, 0.4827586206896552, 0.45057471264367815, 0.5057471264367817, 0.46436781609195404, 0.4804597701149425, 0.4735632183908046, 0.5172413793103449, 0.5172413793103449, 0.4942528735632184, 0.5011494252873563, 0.4666666666666667, 0.5103448275862069, 0.4735632183908046, 0.5126436781609195, 0.5218390804597701, 0.496551724137931, 0.5011494252873563, 0.4689655172413793, 0.5149425287356322, 0.4735632183908046, 0.4942528735632184, 0.49885057471264366, 0.5218390804597701, 0.535632183908046, 0.5149425287356322, 0.49195402298850577, 0.4689655172413793, 0.49885057471264366, 0.5402298850574713, 0.45977011494252873, 0.5218390804597701, 0.5195402298850574, 0.49195402298850577, 0.496551724137931, 0.5241379310344828, 0.5494252873563218, 0.5011494252873563, 0.49885057471264366, 0.4896551724137931, 0.49195402298850577, 0.5563218390804597, 0.503448275862069, 0.4459770114942529, 0.5103448275862069, 0.4850574712643678, 0.4896551724137931, 0.4735632183908046, 0.5540229885057472, 0.49195402298850577, 0.4942528735632184, 0.5333333333333333, 0.47586206896551725, 0.4896551724137931, 0.5310344827586206, 0.4827586206896552, 0.46436781609195404, 0.5011494252873563, 0.4850574712643678, 0.4942528735632184, 0.5310344827586206, 0.5057471264367817, 0.4528735632183908, 0.5126436781609195, 0.5080459770114942, 0.5287356321839081, 0.5126436781609195, 0.5057471264367817, 0.5264367816091954, 0.4942528735632184, 0.5333333333333333, 0.49885057471264366, 0.49195402298850577, 0.42758620689655175, 0.5517241379310345, 0.47586206896551725, 0.5839080459770115, 0.4850574712643678, 0.5149425287356322, 0.46436781609195404, 0.5103448275862069, 0.5195402298850574, 0.5241379310344828, 0.5172413793103449, 0.47126436781609193, 0.4850574712643678, 0.5149425287356322, 0.496551724137931, 0.5172413793103449, 0.5264367816091954, 0.5310344827586206, 0.5333333333333333, 0.4942528735632184, 0.4574712643678161, 0.5011494252873563, 0.4827586206896552, 0.5218390804597701, 0.49195402298850577, 0.5195402298850574, 0.49885057471264366, 0.5011494252873563, 0.4574712643678161, 0.49885057471264366, 0.48735632183908045, 0.49195402298850577, 0.496551724137931, 0.496551724137931, 0.503448275862069, 0.4942528735632184, 0.5080459770114942, 0.4804597701149425, 0.4781609195402299, 0.5241379310344828, 0.49195402298850577, 0.47586206896551725, 0.5011494252873563, 0.4781609195402299, 0.542528735632184, 0.5103448275862069, 0.5195402298850574, 0.5057471264367817, 0.5057471264367817, 0.4942528735632184, 0.5126436781609195, 0.5057471264367817, 0.5057471264367817, 0.48735632183908045, 0.5011494252873563, 0.5126436781609195, 0.48735632183908045, 0.4896551724137931, 0.47126436781609193, 0.5379310344827586, 0.5310344827586206, 0.48735632183908045, 0.4896551724137931, 0.5057471264367817, 0.5057471264367817, 0.4850574712643678, 0.5333333333333333, 0.45517241379310347, 0.45977011494252873, 0.5310344827586206, 0.5218390804597701, 0.49195402298850577, 0.5149425287356322, 0.4850574712643678, 0.5310344827586206, 0.49885057471264366, 0.5287356321839081, 0.4781609195402299, 0.4413793103448276, 0.5103448275862069, 0.49885057471264366, 0.5126436781609195, 0.4827586206896552, 0.5333333333333333, 0.5080459770114942, 0.4804597701149425, 0.5264367816091954, 0.496551724137931, 0.45057471264367815, 0.5241379310344828, 0.5126436781609195, 0.5195402298850574, 0.4896551724137931, 0.4942528735632184, 0.503448275862069, 0.4942528735632184, 0.45977011494252873, 0.46436781609195404, 0.49885057471264366, 0.47126436781609193, 0.4827586206896552, 0.4896551724137931, 0.5218390804597701, 0.5149425287356322, 0.5103448275862069, 0.4827586206896552, 0.47586206896551725, 0.496551724137931, 0.48735632183908045, 0.5678160919540229, 0.4689655172413793, 0.4827586206896552, 0.5149425287356322, 0.4850574712643678, 0.5172413793103449, 0.4413793103448276, 0.48735632183908045, 0.45057471264367815, 0.4689655172413793, 0.4850574712643678, 0.5195402298850574, 0.5586206896551724, 0.48735632183908045, 0.49195402298850577, 0.4942528735632184, 0.503448275862069, 0.5057471264367817, 0.4896551724137931, 0.5080459770114942, 0.5103448275862069, 0.49195402298850577, 0.5379310344827586, 0.4896551724137931, 0.5011494252873563, 0.5264367816091954, 0.4942528735632184, 0.47586206896551725, 0.5011494252873563, 0.48735632183908045, 0.5379310344827586, 0.48735632183908045, 0.49885057471264366, 0.496551724137931, 0.49885057471264366, 0.5080459770114942, 0.496551724137931, 0.4942528735632184, 0.4804597701149425, 0.5218390804597701, 0.5195402298850574, 0.48735632183908045, 0.49195402298850577, 0.4827586206896552, 0.5563218390804597, 0.5011494252873563, 0.4942528735632184, 0.5057471264367817, 0.5264367816091954, 0.4666666666666667, 0.4850574712643678, 0.5195402298850574, 0.4482758620689655, 0.535632183908046, 0.4942528735632184, 0.5103448275862069, 0.46206896551724136, 0.5264367816091954, 0.47586206896551725, 0.4896551724137931, 0.5080459770114942, 0.49885057471264366, 0.5103448275862069, 0.4896551724137931, 0.5264367816091954, 0.45977011494252873, 0.5195402298850574, 0.5080459770114942, 0.5057471264367817, 0.5195402298850574, 0.5057471264367817, 0.5126436781609195, 0.4804597701149425, 0.5011494252873563, 0.43908045977011495, 0.49195402298850577, 0.5149425287356322, 0.5011494252873563, 0.49885057471264366, 0.4804597701149425, 0.4781609195402299, 0.5103448275862069, 0.4827586206896552, 0.535632183908046, 0.4896551724137931, 0.4781609195402299, 0.4850574712643678, 0.5080459770114942, 0.4942528735632184, 0.49195402298850577, 0.5103448275862069, 0.5172413793103449, 0.5333333333333333, 0.5402298850574713, 0.5379310344827586, 0.542528735632184, 0.503448275862069, 0.5310344827586206, 0.5057471264367817, 0.4666666666666667, 0.496551724137931, 0.503448275862069, 0.5057471264367817, 0.48735632183908045, 0.535632183908046, 0.5126436781609195, 0.47126436781609193, 0.4942528735632184, 0.5011494252873563, 0.49885057471264366, 0.5103448275862069, 0.5218390804597701, 0.47586206896551725, 0.49885057471264366, 0.48735632183908045, 0.5057471264367817, 0.4896551724137931, 0.5241379310344828, 0.5287356321839081, 0.5218390804597701, 0.4781609195402299, 0.5126436781609195, 0.4781609195402299, 0.5241379310344828, 0.4804597701149425, 0.4781609195402299, 0.5011494252873563, 0.5126436781609195, 0.5540229885057472, 0.535632183908046, 0.5264367816091954, 0.5103448275862069, 0.503448275862069, 0.5080459770114942, 0.47586206896551725, 0.5241379310344828, 0.5080459770114942, 0.535632183908046, 0.4850574712643678, 0.5149425287356322, 0.503448275862069, 0.5080459770114942, 0.5103448275862069, 0.5149425287356322, 0.4804597701149425, 0.49885057471264366, 0.48735632183908045, 0.4781609195402299, 0.5126436781609195, 0.45977011494252873, 0.4781609195402299, 0.5126436781609195, 0.4942528735632184, 0.4689655172413793, 0.503448275862069, 0.503448275862069, 0.5379310344827586, 0.4942528735632184, 0.4827586206896552, 0.4827586206896552, 0.496551724137931, 0.5563218390804597, 0.5172413793103449, 0.46436781609195404, 0.5287356321839081, 0.503448275862069, 0.5011494252873563, 0.4850574712643678, 0.5195402298850574, 0.4804597701149425, 0.5241379310344828, 0.5218390804597701, 0.4850574712643678, 0.4942528735632184, 0.4781609195402299, 0.4528735632183908, 0.5057471264367817, 0.5287356321839081, 0.5241379310344828, 0.4896551724137931, 0.5494252873563218, 0.503448275862069, 0.5057471264367817, 0.4850574712643678, 0.4896551724137931, 0.5310344827586206, 0.5287356321839081, 0.46206896551724136, 0.503448275862069, 0.48735632183908045, 0.5172413793103449, 0.4942528735632184, 0.5011494252873563, 0.5103448275862069, 0.5264367816091954, 0.4827586206896552, 0.496551724137931, 0.5310344827586206, 0.5287356321839081, 0.49885057471264366, 0.496551724137931, 0.5724137931034483, 0.4689655172413793, 0.4896551724137931, 0.5172413793103449, 0.4850574712643678, 0.48735632183908045, 0.4804597701149425, 0.496551724137931, 0.5011494252873563, 0.496551724137931, 0.4689655172413793, 0.5287356321839081, 0.48735632183908045, 0.4459770114942529, 0.5264367816091954, 0.4942528735632184, 0.47126436781609193, 0.5126436781609195, 0.5195402298850574, 0.5333333333333333, 0.4781609195402299, 0.5310344827586206, 0.4735632183908046, 0.503448275862069, 0.5241379310344828, 0.5379310344827586, 0.49885057471264366, 0.5011494252873563, 0.5080459770114942, 0.5080459770114942, 0.5080459770114942, 0.4804597701149425, 0.48735632183908045, 0.4942528735632184, 0.5310344827586206, 0.5586206896551724, 0.5011494252873563, 0.4942528735632184, 0.45977011494252873, 0.5080459770114942, 0.5149425287356322, 0.46436781609195404, 0.5057471264367817, 0.5172413793103449, 0.48735632183908045, 0.4850574712643678, 0.5195402298850574, 0.5586206896551724, 0.49885057471264366, 0.49195402298850577, 0.5264367816091954, 0.5540229885057472, 0.5333333333333333, 0.5172413793103449, 0.47586206896551725, 0.4804597701149425, 0.5379310344827586, 0.49195402298850577, 0.49885057471264366, 0.4942528735632184, 0.496551724137931, 0.5011494252873563, 0.5333333333333333, 0.5195402298850574, 0.4850574712643678, 0.5379310344827586, 0.5149425287356322, 0.5218390804597701, 0.5195402298850574, 0.49885057471264366, 0.503448275862069, 0.48735632183908045, 0.4459770114942529, 0.5310344827586206, 0.4804597701149425, 0.5287356321839081, 0.5333333333333333, 0.5080459770114942, 0.48735632183908045, 0.5172413793103449, 0.49195402298850577, 0.4942528735632184, 0.4896551724137931, 0.4804597701149425, 0.5172413793103449, 0.496551724137931, 0.48735632183908045, 0.5448275862068965, 0.5241379310344828, 0.5471264367816092, 0.5057471264367817, 0.49195402298850577, 0.5287356321839081, 0.47586206896551725, 0.4850574712643678, 0.5057471264367817, 0.5126436781609195, 0.4413793103448276, 0.503448275862069, 0.5080459770114942, 0.5172413793103449, 0.5057471264367817, 0.5264367816091954, 0.5241379310344828, 0.4666666666666667, 0.503448275862069, 0.47586206896551725, 0.5126436781609195, 0.5172413793103449, 0.5149425287356322, 0.49195402298850577, 0.5310344827586206, 0.5241379310344828, 0.5172413793103449, 0.46436781609195404, 0.4896551724137931, 0.5172413793103449, 0.47126436781609193, 0.4942528735632184, 0.5057471264367817, 0.5126436781609195, 0.503448275862069, 0.5287356321839081, 0.42298850574712643, 0.5264367816091954, 0.5195402298850574, 0.5310344827586206, 0.496551724137931, 0.5195402298850574, 0.496551724137931, 0.5287356321839081, 0.5241379310344828, 0.4942528735632184, 0.5103448275862069, 0.4804597701149425, 0.496551724137931, 0.4850574712643678, 0.5218390804597701, 0.49195402298850577, 0.5103448275862069, 0.5563218390804597, 0.5057471264367817, 0.5172413793103449, 0.5333333333333333, 0.5241379310344828, 0.4942528735632184, 0.49885057471264366, 0.5494252873563218, 0.5172413793103449, 0.48735632183908045, 0.503448275862069, 0.5103448275862069, 0.5057471264367817, 0.4666666666666667, 0.47586206896551725, 0.4942528735632184, 0.5195402298850574, 0.5011494252873563, 0.49885057471264366, 0.5126436781609195, 0.4804597701149425, 0.4804597701149425, 0.5149425287356322, 0.5126436781609195, 0.45057471264367815, 0.4942528735632184, 0.4896551724137931, 0.48735632183908045, 0.48735632183908045, 0.4827586206896552, 0.5057471264367817, 0.4827586206896552, 0.5057471264367817, 0.4942528735632184, 0.5103448275862069, 0.4482758620689655, 0.496551724137931, 0.5241379310344828, 0.503448275862069, 0.5103448275862069, 0.5195402298850574, 0.4827586206896552, 0.5172413793103449, 0.5172413793103449, 0.5195402298850574, 0.42758620689655175, 0.5218390804597701, 0.49195402298850577, 0.5103448275862069, 0.48735632183908045, 0.48735632183908045, 0.5264367816091954, 0.5103448275862069, 0.49885057471264366, 0.5333333333333333, 0.5379310344827586, 0.45977011494252873, 0.5011494252873563, 0.5172413793103449, 0.5402298850574713, 0.4850574712643678, 0.5172413793103449, 0.5103448275862069, 0.46206896551724136, 0.4827586206896552, 0.45977011494252873, 0.4781609195402299, 0.45517241379310347, 0.503448275862069, 0.47586206896551725, 0.5264367816091954, 0.5241379310344828, 0.46206896551724136, 0.4850574712643678, 0.535632183908046, 0.5080459770114942, 0.49195402298850577, 0.5126436781609195, 0.496551724137931, 0.4827586206896552, 0.47586206896551725, 0.4896551724137931, 0.49885057471264366, 0.5471264367816092, 0.4827586206896552, 0.4781609195402299, 0.5195402298850574, 0.4942528735632184, 0.5241379310344828, 0.48735632183908045, 0.5172413793103449, 0.4298850574712644, 0.496551724137931, 0.5287356321839081, 0.4804597701149425, 0.5287356321839081, 0.5149425287356322, 0.4827586206896552, 0.49195402298850577, 0.535632183908046, 0.5149425287356322, 0.5448275862068965, 0.49195402298850577, 0.4850574712643678, 0.4942528735632184, 0.49195402298850577, 0.49885057471264366, 0.5402298850574713, 0.4942528735632184, 0.49195402298850577, 0.542528735632184, 0.49195402298850577, 0.4896551724137931, 0.4827586206896552, 0.47126436781609193, 0.5609195402298851, 0.4735632183908046, 0.5218390804597701, 0.4781609195402299, 0.48735632183908045, 0.47586206896551725, 0.5011494252873563, 0.4804597701149425, 0.4827586206896552, 0.5172413793103449, 0.5149425287356322, 0.4827586206896552, 0.5149425287356322, 0.4896551724137931, 0.5264367816091954, 0.5195402298850574, 0.5333333333333333, 0.5218390804597701, 0.4735632183908046, 0.5310344827586206, 0.47586206896551725, 0.4942528735632184, 0.5126436781609195, 0.49885057471264366, 0.5402298850574713, 0.5057471264367817, 0.5195402298850574, 0.48735632183908045, 0.5149425287356322, 0.5149425287356322, 0.5080459770114942, 0.503448275862069, 0.5011494252873563, 0.5011494252873563, 0.5126436781609195, 0.4735632183908046, 0.4804597701149425, 0.496551724137931, 0.5011494252873563, 0.48735632183908045, 0.4827586206896552, 0.4827586206896552, 0.49885057471264366, 0.4942528735632184, 0.46206896551724136, 0.5172413793103449, 0.5333333333333333, 0.46206896551724136, 0.5149425287356322, 0.4413793103448276, 0.5149425287356322, 0.45517241379310347, 0.5103448275862069, 0.5011494252873563, 0.5540229885057472, 0.47126436781609193, 0.5241379310344828, 0.5011494252873563, 0.5310344827586206, 0.48735632183908045, 0.5287356321839081, 0.5057471264367817, 0.4781609195402299, 0.5287356321839081, 0.4689655172413793, 0.5126436781609195, 0.49885057471264366, 0.4896551724137931, 0.47126436781609193, 0.4827586206896552, 0.5195402298850574, 0.4804597701149425, 0.503448275862069, 0.5149425287356322, 0.5195402298850574, 0.45517241379310347, 0.5103448275862069, 0.48735632183908045, 0.5333333333333333, 0.5218390804597701, 0.5080459770114942, 0.5448275862068965, 0.535632183908046, 0.5149425287356322, 0.4482758620689655, 0.5103448275862069, 0.45977011494252873, 0.5126436781609195, 0.5218390804597701, 0.4942528735632184, 0.4781609195402299, 0.48735632183908045, 0.4781609195402299, 0.4781609195402299, 0.5057471264367817, 0.5126436781609195, 0.49195402298850577, 0.503448275862069, 0.5172413793103449, 0.5103448275862069, 0.5126436781609195, 0.5172413793103449, 0.5195402298850574, 0.5057471264367817, 0.5241379310344828, 0.48735632183908045, 0.46436781609195404, 0.4436781609195402, 0.5126436781609195, 0.5310344827586206, 0.5057471264367817, 0.5149425287356322, 0.5402298850574713, 0.5011494252873563, 0.5287356321839081, 0.4942528735632184, 0.5149425287356322, 0.496551724137931, 0.4735632183908046, 0.5172413793103449, 0.5195402298850574, 0.4804597701149425, 0.5195402298850574, 0.4804597701149425, 0.47586206896551725, 0.49195402298850577, 0.49195402298850577, 0.4735632183908046, 0.4896551724137931, 0.48735632183908045, 0.4896551724137931, 0.49195402298850577, 0.4781609195402299, 0.49885057471264366, 0.5103448275862069, 0.5011494252873563, 0.45057471264367815, 0.5287356321839081, 0.4942528735632184, 0.45057471264367815, 0.4689655172413793, 0.4896551724137931, 0.5287356321839081, 0.49885057471264366, 0.46436781609195404, 0.5011494252873563, 0.47126436781609193, 0.5172413793103449, 0.5264367816091954, 0.5149425287356322, 0.5011494252873563, 0.46436781609195404, 0.4781609195402299, 0.5310344827586206, 0.496551724137931, 0.5103448275862069, 0.5172413793103449, 0.4735632183908046, 0.5126436781609195, 0.5149425287356322, 0.4735632183908046, 0.4942528735632184, 0.4666666666666667, 0.4827586206896552, 0.5241379310344828, 0.5333333333333333, 0.5172413793103449, 0.5471264367816092, 0.4896551724137931, 0.4781609195402299, 0.4804597701149425, 0.503448275862069, 0.503448275862069, 0.46206896551724136, 0.5011494252873563, 0.47586206896551725, 0.5287356321839081, 0.5149425287356322, 0.4781609195402299, 0.4827586206896552, 0.5264367816091954, 0.4666666666666667, 0.5172413793103449, 0.5057471264367817, 0.4827586206896552, 0.4827586206896552, 0.5586206896551724, 0.5241379310344828, 0.4689655172413793, 0.5126436781609195, 0.496551724137931, 0.48735632183908045, 0.5287356321839081, 0.496551724137931, 0.5011494252873563, 0.5103448275862069, 0.4735632183908046, 0.5218390804597701, 0.5149425287356322, 0.4896551724137931, 0.5011494252873563, 0.5126436781609195, 0.49885057471264366, 0.5172413793103449, 0.49885057471264366, 0.5057471264367817, 0.5287356321839081, 0.5264367816091954, 0.45057471264367815, 0.49195402298850577, 0.5011494252873563, 0.496551724137931, 0.45057471264367815, 0.4804597701149425, 0.5379310344827586, 0.4850574712643678, 0.5080459770114942, 0.5310344827586206, 0.4666666666666667, 0.49885057471264366, 0.4896551724137931, 0.4850574712643678, 0.5057471264367817, 0.5080459770114942, 0.5379310344827586, 0.48735632183908045, 0.496551724137931, 0.5149425287356322, 0.5379310344827586, 0.48735632183908045, 0.5011494252873563, 0.5195402298850574, 0.4850574712643678, 0.5241379310344828, 0.4896551724137931, 0.4735632183908046, 0.5011494252873563, 0.4666666666666667, 0.4896551724137931, 0.46436781609195404, 0.4735632183908046, 0.503448275862069, 0.4850574712643678, 0.4896551724137931, 0.4528735632183908, 0.4850574712643678, 0.503448275862069, 0.5310344827586206, 0.5103448275862069, 0.49195402298850577, 0.535632183908046, 0.5218390804597701, 0.5448275862068965, 0.5126436781609195, 0.4804597701149425, 0.4781609195402299, 0.5011494252873563, 0.49195402298850577, 0.5103448275862069, 0.5241379310344828, 0.5195402298850574, 0.503448275862069, 0.496551724137931, 0.5011494252873563, 0.49885057471264366, 0.4942528735632184, 0.5080459770114942, 0.4942528735632184, 0.5080459770114942, 0.5287356321839081, 0.5011494252873563, 0.5379310344827586, 0.5264367816091954, 0.503448275862069, 0.5172413793103449, 0.5609195402298851, 0.49195402298850577, 0.5287356321839081, 0.5057471264367817, 0.4896551724137931, 0.5172413793103449, 0.4942528735632184, 0.4781609195402299, 0.4781609195402299, 0.5241379310344828, 0.5149425287356322, 0.5379310344827586, 0.5057471264367817, 0.4827586206896552, 0.4896551724137931, 0.4735632183908046, 0.4436781609195402, 0.49195402298850577, 0.4735632183908046, 0.47586206896551725, 0.4942528735632184, 0.5172413793103449, 0.4850574712643678, 0.5218390804597701, 0.49885057471264366, 0.4666666666666667, 0.4689655172413793, 0.5126436781609195, 0.496551724137931, 0.4942528735632184, 0.5195402298850574, 0.5126436781609195, 0.5126436781609195, 0.4735632183908046, 0.5103448275862069, 0.48735632183908045, 0.49195402298850577, 0.4896551724137931, 0.5218390804597701, 0.5080459770114942, 0.496551724137931, 0.5195402298850574, 0.48735632183908045, 0.503448275862069, 0.46206896551724136, 0.5080459770114942, 0.49885057471264366, 0.5218390804597701, 0.5264367816091954, 0.5103448275862069, 0.5333333333333333, 0.5103448275862069, 0.47126436781609193, 0.4896551724137931, 0.5218390804597701, 0.49885057471264366, 0.4804597701149425, 0.503448275862069, 0.5195402298850574, 0.5080459770114942, 0.503448275862069, 0.5333333333333333, 0.5011494252873563, 0.496551724137931, 0.5011494252873563, 0.5080459770114942, 0.5126436781609195, 0.4689655172413793, 0.503448275862069, 0.5103448275862069, 0.4850574712643678, 0.48735632183908045, 0.5241379310344828, 0.4735632183908046, 0.5195402298850574, 0.49195402298850577, 0.5471264367816092, 0.49195402298850577, 0.4781609195402299, 0.4574712643678161, 0.5333333333333333, 0.4781609195402299, 0.5080459770114942, 0.49885057471264366, 0.4666666666666667, 0.5011494252873563, 0.5287356321839081, 0.5149425287356322, 0.5057471264367817, 0.46436781609195404, 0.535632183908046, 0.5057471264367817, 0.5333333333333333, 0.4804597701149425, 0.45977011494252873, 0.4781609195402299, 0.5103448275862069, 0.5057471264367817, 0.5287356321839081, 0.47126436781609193, 0.542528735632184, 0.496551724137931, 0.45977011494252873, 0.5057471264367817, 0.49195402298850577, 0.49195402298850577, 0.5218390804597701, 0.5379310344827586, 0.5218390804597701, 0.503448275862069, 0.5080459770114942, 0.4781609195402299, 0.5011494252873563, 0.49885057471264366, 0.5402298850574713, 0.4850574712643678, 0.496551724137931, 0.5287356321839081, 0.5310344827586206, 0.4827586206896552, 0.5448275862068965, 0.4850574712643678, 0.49885057471264366, 0.49195402298850577, 0.5057471264367817, 0.5333333333333333, 0.5126436781609195, 0.47126436781609193, 0.496551724137931, 0.4804597701149425, 0.46436781609195404, 0.46436781609195404, 0.48735632183908045, 0.5172413793103449, 0.5080459770114942, 0.503448275862069, 0.5218390804597701, 0.5195402298850574, 0.5149425287356322, 0.5218390804597701, 0.47586206896551725, 0.46436781609195404, 0.5195402298850574, 0.4781609195402299, 0.4850574712643678, 0.5241379310344828, 0.47126436781609193, 0.5241379310344828, 0.49885057471264366, 0.5011494252873563, 0.4850574712643678, 0.4896551724137931, 0.496551724137931, 0.503448275862069, 0.49195402298850577, 0.4827586206896552, 0.496551724137931, 0.5149425287356322, 0.4781609195402299, 0.5172413793103449, 0.45517241379310347, 0.496551724137931, 0.503448275862069, 0.4850574712643678, 0.5402298850574713, 0.5080459770114942, 0.5287356321839081, 0.4666666666666667, 0.5057471264367817, 0.5241379310344828, 0.47586206896551725, 0.5609195402298851, 0.4942528735632184, 0.5379310344827586, 0.4574712643678161, 0.4781609195402299, 0.49885057471264366, 0.4735632183908046, 0.4689655172413793, 0.5126436781609195, 0.47586206896551725, 0.47586206896551725, 0.5310344827586206, 0.48735632183908045, 0.5540229885057472, 0.4574712643678161, 0.5471264367816092, 0.4827586206896552, 0.4896551724137931, 0.49885057471264366, 0.5057471264367817, 0.4896551724137931, 0.47586206896551725, 0.5264367816091954, 0.49195402298850577, 0.5011494252873563, 0.503448275862069, 0.45977011494252873, 0.5287356321839081, 0.42758620689655175, 0.5103448275862069, 0.5011494252873563, 0.49195402298850577, 0.4850574712643678, 0.5149425287356322, 0.5172413793103449, 0.5540229885057472, 0.47126436781609193, 0.5103448275862069, 0.5057471264367817, 0.4735632183908046, 0.49885057471264366, 0.5149425287356322, 0.4781609195402299, 0.4850574712643678, 0.43908045977011495, 0.5011494252873563, 0.49195402298850577, 0.5011494252873563, 0.47586206896551725, 0.5080459770114942, 0.5103448275862069, 0.4804597701149425, 0.4804597701149425, 0.46436781609195404, 0.5172413793103449, 0.5195402298850574, 0.5057471264367817, 0.5218390804597701, 0.4896551724137931, 0.5057471264367817, 0.5172413793103449, 0.5172413793103449, 0.47126436781609193, 0.47586206896551725, 0.542528735632184, 0.4735632183908046, 0.5149425287356322, 0.5149425287356322, 0.5333333333333333, 0.47126436781609193, 0.4850574712643678, 0.4666666666666667, 0.45517241379310347, 0.5126436781609195, 0.5057471264367817, 0.5172413793103449, 0.4781609195402299, 0.5264367816091954, 0.4896551724137931, 0.5080459770114942, 0.4666666666666667, 0.5563218390804597, 0.47586206896551725, 0.47586206896551725, 0.49885057471264366, 0.5057471264367817, 0.5195402298850574, 0.5103448275862069, 0.4942528735632184, 0.4850574712643678, 0.5241379310344828, 0.4781609195402299, 0.5103448275862069, 0.5218390804597701, 0.4574712643678161, 0.47586206896551725, 0.5379310344827586, 0.503448275862069, 0.4896551724137931, 0.4896551724137931, 0.503448275862069, 0.5540229885057472, 0.496551724137931, 0.49195402298850577, 0.5195402298850574, 0.5011494252873563, 0.4896551724137931, 0.46206896551724136, 0.49885057471264366, 0.4850574712643678, 0.4735632183908046, 0.49885057471264366, 0.4735632183908046, 0.535632183908046, 0.5103448275862069, 0.5218390804597701, 0.49195402298850577, 0.4942528735632184, 0.5333333333333333, 0.46436781609195404, 0.45977011494252873, 0.5287356321839081, 0.4528735632183908, 0.49195402298850577, 0.47126436781609193, 0.4827586206896552, 0.46206896551724136, 0.5379310344827586, 0.4850574712643678, 0.5149425287356322, 0.5103448275862069, 0.5057471264367817, 0.5080459770114942, 0.5172413793103449, 0.45057471264367815, 0.46436781609195404, 0.5103448275862069, 0.5126436781609195, 0.4827586206896552, 0.5287356321839081, 0.4781609195402299, 0.5310344827586206, 0.5609195402298851, 0.4942528735632184, 0.5379310344827586, 0.542528735632184, 0.49885057471264366, 0.4942528735632184, 0.5218390804597701, 0.47126436781609193, 0.4896551724137931, 0.4804597701149425, 0.4942528735632184, 0.496551724137931, 0.4804597701149425, 0.4896551724137931, 0.5172413793103449, 0.503448275862069, 0.5126436781609195, 0.5448275862068965, 0.4528735632183908, 0.46436781609195404, 0.4827586206896552, 0.5103448275862069, 0.5126436781609195, 0.5011494252873563, 0.5103448275862069, 0.5379310344827586, 0.49195402298850577, 0.5011494252873563, 0.5126436781609195, 0.5241379310344828, 0.5103448275862069, 0.48735632183908045, 0.5057471264367817, 0.5057471264367817, 0.5103448275862069, 0.503448275862069, 0.46206896551724136, 0.4781609195402299, 0.5195402298850574, 0.5103448275862069, 0.503448275862069, 0.49195402298850577, 0.45057471264367815, 0.5149425287356322, 0.5057471264367817, 0.5103448275862069, 0.5310344827586206, 0.5540229885057472, 0.5379310344827586, 0.47586206896551725, 0.535632183908046, 0.43448275862068964, 0.46206896551724136, 0.5172413793103449, 0.5195402298850574, 0.5103448275862069, 0.47126436781609193, 0.4804597701149425, 0.5080459770114942, 0.5310344827586206, 0.5241379310344828, 0.5264367816091954, 0.5149425287356322, 0.503448275862069, 0.4896551724137931, 0.4942528735632184, 0.5195402298850574, 0.5057471264367817, 0.49885057471264366, 0.5241379310344828, 0.4827586206896552, 0.4781609195402299, 0.4827586206896552, 0.5126436781609195, 0.4482758620689655, 0.4689655172413793, 0.5195402298850574, 0.4942528735632184, 0.5172413793103449, 0.5080459770114942, 0.4804597701149425, 0.4827586206896552, 0.4827586206896552, 0.48735632183908045, 0.49885057471264366, 0.5149425287356322, 0.5011494252873563, 0.4942528735632184, 0.49195402298850577, 0.49885057471264366, 0.46436781609195404, 0.4436781609195402, 0.5057471264367817, 0.496551724137931, 0.5149425287356322, 0.5149425287356322, 0.47126436781609193, 0.49195402298850577, 0.5333333333333333, 0.48735632183908045, 0.4666666666666667, 0.4689655172413793, 0.503448275862069, 0.4574712643678161, 0.4942528735632184, 0.5379310344827586, 0.5287356321839081, 0.5103448275862069, 0.5149425287356322, 0.5103448275862069, 0.5172413793103449, 0.5287356321839081, 0.49885057471264366, 0.5218390804597701, 0.503448275862069, 0.4735632183908046, 0.4574712643678161, 0.49195402298850577, 0.503448275862069, 0.4804597701149425, 0.45517241379310347, 0.5172413793103449, 0.5057471264367817, 0.535632183908046, 0.5149425287356322, 0.49195402298850577, 0.4896551724137931, 0.5126436781609195, 0.45977011494252873, 0.4735632183908046, 0.5126436781609195, 0.5264367816091954, 0.49195402298850577, 0.503448275862069, 0.4850574712643678, 0.48735632183908045, 0.4666666666666667, 0.46436781609195404, 0.5241379310344828, 0.49195402298850577, 0.4896551724137931, 0.4666666666666667, 0.49885057471264366, 0.5080459770114942, 0.4666666666666667, 0.5218390804597701, 0.503448275862069, 0.5333333333333333, 0.5080459770114942, 0.5241379310344828, 0.47586206896551725, 0.49885057471264366, 0.49885057471264366, 0.5195402298850574, 0.46206896551724136, 0.4942528735632184, 0.49885057471264366, 0.4850574712643678, 0.5287356321839081]\n"
          ],
          "name": "stdout"
        }
      ]
    },
    {
      "cell_type": "code",
      "metadata": {
        "id": "xVDwKmCzls7m",
        "colab_type": "code",
        "colab": {
          "base_uri": "https://localhost:8080/",
          "height": 265
        },
        "outputId": "de36bb18-5028-4359-e13b-ff092c053849"
      },
      "source": [
        "import matplotlib.pyplot as plt\n",
        "import seaborn as sns\n",
        "fix, ax = plt.subplots()\n",
        "for sample in [sample_means_small, sample_means_large]:\n",
        "  sns.distplot(sample)"
      ],
      "execution_count": 59,
      "outputs": [
        {
          "output_type": "display_data",
          "data": {
            "image/png": "[encoded data removed]",
            "text/plain": [
              "<Figure size 432x288 with 1 Axes>"
            ]
          },
          "metadata": {
            "tags": []
          }
        }
      ]
    },
    {
      "cell_type": "code",
      "metadata": {
        "id": "NaJZqbumlz5q",
        "colab_type": "code",
        "colab": {}
      },
      "source": [
        "def mean_moe(sample, confidence=0.95):\n",
        "  \"\"\"\n",
        "  Calculate a confidence interval around a sample mean for given data.\n",
        "  Using t-distribution and two-tailed test, default 95% confidence. \n",
        "  \n",
        "  Arguments:\n",
        "    data - iterable (list or numpy array) of sample observations\n",
        "    confidence - level of confidence for the interval\n",
        "  \n",
        "  Returns:\n",
        "    tuple of (mean, lower bound, upper bound)\n",
        "  \"\"\"\n",
        "  # NumPy Arrays are your friend\n",
        "  sample = np.array(sample)\n",
        "  # What is my estimate  - the mean\n",
        "  mean = np.mean(sample)\n",
        "  # Sample Size\n",
        "  n = len(sample)\n",
        "  # standard error\n",
        "  # stderr = stats.sem(data)\n",
        "  # I want the sample standard deviation\n",
        "  stderr = np.std(sample, ddof=1) / np.sqrt(n)\n",
        "  # Look up the t-statistic that contains 95% of possible sample means\n",
        "  # within its bounds\n",
        "  t = stats.t.ppf((1 + confidence) / 2.0, n - 1)\n",
        "  # Margin Of Error\n",
        "  margin_of_error = t * stderr\n",
        "  return mean, margin_of_error"
      ],
      "execution_count": 0,
      "outputs": []
    },
    {
      "cell_type": "code",
      "metadata": {
        "id": "EneXC1LwmKqd",
        "colab_type": "code",
        "colab": {}
      },
      "source": [
        "import scipy.stats\n",
        "\n",
        "\n",
        "def confidence_interval(sample, confidence=0.95):\n",
        "  \"\"\"\n",
        "  Calculate a confidence interval around a sample mean for given data.\n",
        "  Using t-distribution and two-tailed test, default 95% confidence. \n",
        "  \n",
        "  Arguments:\n",
        "    data - iterable (list or numpy array) of sample observations\n",
        "    confidence - level of confidence for the interval\n",
        "  \n",
        "  Returns:\n",
        "    tuple of (mean, lower bound, upper bound)\n",
        "  \"\"\"\n",
        "  # NumPy Arrays are your friend\n",
        "  sample = np.array(sample)\n",
        "  # What is my estimate  - the mean\n",
        "  mean = np.mean(sample)\n",
        "  # Sample Size\n",
        "  n = len(sample)\n",
        "  # standard error\n",
        "  # stderr = stats.sem(data)\n",
        "  # I want the sample standard deviation\n",
        "  stderr = np.std(sample, ddof=1) / np.sqrt(n)\n",
        "  # Look up the t-statistic that contains 95% of possible sample means\n",
        "  # within its bounds\n",
        "  t = stats.t.ppf((1 + confidence) / 2.0, n - 1)\n",
        "  # Margin Of Error\n",
        "  margin_of_error = t * stderr\n",
        "  return mean - margin_of_error, mean, mean + margin_of_error"
      ],
      "execution_count": 0,
      "outputs": []
    },
    {
      "cell_type": "code",
      "metadata": {
        "id": "7_h-sHevmPOn",
        "colab_type": "code",
        "colab": {
          "base_uri": "https://localhost:8080/",
          "height": 221
        },
        "outputId": "7d28beac-f78b-4307-e4ce-58b2a31edd8e"
      },
      "source": [
        "df['crime'] = np.random.binomial(n=1, p=.5, size=435)\n",
        "df['crime']"
      ],
      "execution_count": 85,
      "outputs": [
        {
          "output_type": "execute_result",
          "data": {
            "text/plain": [
              "0      1\n",
              "1      0\n",
              "2      1\n",
              "3      0\n",
              "4      1\n",
              "      ..\n",
              "430    1\n",
              "431    1\n",
              "432    0\n",
              "433    1\n",
              "434    1\n",
              "Name: crime, Length: 435, dtype: int64"
            ]
          },
          "metadata": {
            "tags": []
          },
          "execution_count": 85
        }
      ]
    },
    {
      "cell_type": "code",
      "metadata": {
        "colab_type": "code",
        "outputId": "9ca7a3cc-cd60-4dc6-ebf5-cb478fbc4ad2",
        "id": "g5Ih-pssngvt",
        "colab": {
          "base_uri": "https://localhost:8080/",
          "height": 51
        }
      },
      "source": [
        "from scipy import stats\n",
        "\n",
        "df['crime'] = np.random.binomial(n=1, p=.5, size=435)\n",
        "\n",
        "mean, margin_of_error = mean_moe(df['crime'])\n",
        "print(\"mean\", mean)\n",
        "print(\"margin of error\", margin_of_error)"
      ],
      "execution_count": 88,
      "outputs": [
        {
          "output_type": "stream",
          "text": [
            "mean 0.5333333333333333\n",
            "margin of error 0.04706724723311491\n"
          ],
          "name": "stdout"
        }
      ]
    },
    {
      "cell_type": "code",
      "metadata": {
        "id": "jq8r_k8VoWDx",
        "colab_type": "code",
        "colab": {
          "base_uri": "https://localhost:8080/",
          "height": 68
        },
        "outputId": "93efccd9-b824-471a-87ff-377563276acd"
      },
      "source": [
        "df['crime'] = np.random.binomial(n=1, p=.5, size=435)\n",
        "\n",
        "lower_bound, mean, upper_bound = confidence_interval(df['crime'])\n",
        "print(\"lower bound:\", lower_bound)\n",
        "print(\"mean\", mean)\n",
        "print(\"upper bound:\", upper_bound)"
      ],
      "execution_count": 90,
      "outputs": [
        {
          "output_type": "stream",
          "text": [
            "lower bound: 0.47702074082427204\n",
            "mean 0.5241379310344828\n",
            "upper bound: 0.5712551212446936\n"
          ],
          "name": "stdout"
        }
      ]
    },
    {
      "cell_type": "code",
      "metadata": {
        "id": "FRasF1rAq-OD",
        "colab_type": "code",
        "colab": {
          "base_uri": "https://localhost:8080/",
          "height": 204
        },
        "outputId": "643e87c3-dbb7-4927-94b9-6e11d18a9fea"
      },
      "source": [
        "df = pd.DataFrame({'crime': df['crime']})\n",
        "\n",
        "df.head()"
      ],
      "execution_count": 93,
      "outputs": [
        {
          "output_type": "execute_result",
          "data": {
            "text/html": [
              "<div>\n",
              "<style scoped>\n",
              "    .dataframe tbody tr th:only-of-type {\n",
              "        vertical-align: middle;\n",
              "    }\n",
              "\n",
              "    .dataframe tbody tr th {\n",
              "        vertical-align: top;\n",
              "    }\n",
              "\n",
              "    .dataframe thead th {\n",
              "        text-align: right;\n",
              "    }\n",
              "</style>\n",
              "<table border=\"1\" class=\"dataframe\">\n",
              "  <thead>\n",
              "    <tr style=\"text-align: right;\">\n",
              "      <th></th>\n",
              "      <th>crime</th>\n",
              "    </tr>\n",
              "  </thead>\n",
              "  <tbody>\n",
              "    <tr>\n",
              "      <th>0</th>\n",
              "      <td>1</td>\n",
              "    </tr>\n",
              "    <tr>\n",
              "      <th>1</th>\n",
              "      <td>1</td>\n",
              "    </tr>\n",
              "    <tr>\n",
              "      <th>2</th>\n",
              "      <td>1</td>\n",
              "    </tr>\n",
              "    <tr>\n",
              "      <th>3</th>\n",
              "      <td>0</td>\n",
              "    </tr>\n",
              "    <tr>\n",
              "      <th>4</th>\n",
              "      <td>1</td>\n",
              "    </tr>\n",
              "  </tbody>\n",
              "</table>\n",
              "</div>"
            ],
            "text/plain": [
              "   crime\n",
              "0      1\n",
              "1      1\n",
              "2      1\n",
              "3      0\n",
              "4      1"
            ]
          },
          "metadata": {
            "tags": []
          },
          "execution_count": 93
        }
      ]
    },
    {
      "cell_type": "code",
      "metadata": {
        "id": "OJZwDqO7rS-X",
        "colab_type": "code",
        "colab": {
          "base_uri": "https://localhost:8080/",
          "height": 281
        },
        "outputId": "faf5c5b6-98e6-4eef-dc08-de962d70ba7f"
      },
      "source": [
        "crime = np.random.binomial(n=1, p=.5, size=435)\n",
        "\n",
        "CI = confidence_interval(crime)\n",
        "\n",
        "df.plot.density()\n",
        "plt.title(\"crime distribution\")\n",
        "plt.axvline(x=CI[0], color='red')\n",
        "plt.axvline(x=CI[1], color='black')\n",
        "plt.axvline(x=CI[2], color='red');\n",
        "plt.show()"
      ],
      "execution_count": 94,
      "outputs": [
        {
          "output_type": "display_data",
          "data": {
            "image/png": "[encoded data removed]",
            "text/plain": [
              "<Figure size 432x288 with 1 Axes>"
            ]
          },
          "metadata": {
            "tags": []
          }
        }
      ]
    },
    {
      "cell_type": "markdown",
      "metadata": {
        "id": "z_FgdPf8rqJk",
        "colab_type": "text"
      },
      "source": [
        "-------------------------------------"
      ]
    },
    {
      "cell_type": "code",
      "metadata": {
        "id": "pKTT97OKrr7Z",
        "colab_type": "code",
        "colab": {}
      },
      "source": [
        "from scipy.stats import t, ttest_1samp"
      ],
      "execution_count": 0,
      "outputs": []
    },
    {
      "cell_type": "code",
      "metadata": {
        "id": "rmgXsX6Nr0-W",
        "colab_type": "code",
        "colab": {
          "base_uri": "https://localhost:8080/",
          "height": 54
        },
        "outputId": "af9301ae-cbcf-4a17-c1a1-2a831a87a87d"
      },
      "source": [
        "import numpy as np\n",
        "\n",
        "crime_means = []\n",
        "for x in range(0,100):\n",
        "  crime = np.random.binomial(n=1, p=.5, size=435)\n",
        "  crime_means.append(crime.mean())\n",
        "\n",
        "print(crime_means)"
      ],
      "execution_count": 97,
      "outputs": [
        {
          "output_type": "stream",
          "text": [
            "[0.5379310344827586, 0.5103448275862069, 0.5103448275862069, 0.49885057471264366, 0.5241379310344828, 0.503448275862069, 0.432183908045977, 0.5241379310344828, 0.45517241379310347, 0.5195402298850574, 0.4896551724137931, 0.496551724137931, 0.4942528735632184, 0.5287356321839081, 0.5172413793103449, 0.47126436781609193, 0.5126436781609195, 0.5517241379310345, 0.5195402298850574, 0.4827586206896552, 0.46206896551724136, 0.42758620689655175, 0.5149425287356322, 0.5195402298850574, 0.47586206896551725, 0.4735632183908046, 0.4896551724137931, 0.5655172413793104, 0.4850574712643678, 0.5057471264367817, 0.5218390804597701, 0.5471264367816092, 0.4804597701149425, 0.47586206896551725, 0.5264367816091954, 0.5011494252873563, 0.5195402298850574, 0.4804597701149425, 0.5264367816091954, 0.503448275862069, 0.503448275862069, 0.49885057471264366, 0.503448275862069, 0.4896551724137931, 0.49885057471264366, 0.5264367816091954, 0.5471264367816092, 0.4942528735632184, 0.5241379310344828, 0.496551724137931, 0.5333333333333333, 0.5241379310344828, 0.4850574712643678, 0.5149425287356322, 0.5057471264367817, 0.5379310344827586, 0.4666666666666667, 0.5310344827586206, 0.4827586206896552, 0.47126436781609193, 0.47586206896551725, 0.5011494252873563, 0.5103448275862069, 0.4459770114942529, 0.5195402298850574, 0.47126436781609193, 0.4827586206896552, 0.48735632183908045, 0.496551724137931, 0.45517241379310347, 0.5011494252873563, 0.4850574712643678, 0.45517241379310347, 0.4827586206896552, 0.4942528735632184, 0.5057471264367817, 0.4827586206896552, 0.45517241379310347, 0.5241379310344828, 0.5310344827586206, 0.49195402298850577, 0.5195402298850574, 0.5540229885057472, 0.49195402298850577, 0.5264367816091954, 0.5057471264367817, 0.4896551724137931, 0.5172413793103449, 0.542528735632184, 0.4942528735632184, 0.4827586206896552, 0.48735632183908045, 0.5448275862068965, 0.4528735632183908, 0.5011494252873563, 0.496551724137931, 0.4781609195402299, 0.5080459770114942, 0.4781609195402299, 0.5241379310344828]\n"
          ],
          "name": "stdout"
        }
      ]
    },
    {
      "cell_type": "code",
      "metadata": {
        "id": "5CsEGaD2sEyx",
        "colab_type": "code",
        "colab": {
          "base_uri": "https://localhost:8080/",
          "height": 34
        },
        "outputId": "a560d45c-9e2a-4aeb-a086-54af7170900f"
      },
      "source": [
        "# Sample Size\n",
        "n = len(crime_means)\n",
        "# Degrees of Freedom\n",
        "dof = n-1\n",
        "# The Mean of Means:\n",
        "mean = np.mean(crime_means)\n",
        "# Sample Standard Deviation\n",
        "sample_std = np.std(crime_means, ddof=1)\n",
        "# Standard Error\n",
        "std_err = sample_std/n**.5\n",
        "\n",
        "CI = t.interval(.95, dof, loc=mean, scale=std_err)\n",
        "print(\"95% Confidence Interval: \", CI)"
      ],
      "execution_count": 98,
      "outputs": [
        {
          "output_type": "stream",
          "text": [
            "95% Confidence Interval:  (0.495361093755377, 0.5060182165894503)\n"
          ],
          "name": "stdout"
        }
      ]
    },
    {
      "cell_type": "markdown",
      "metadata": {
        "id": "4ohsJhQUmEuS",
        "colab_type": "text"
      },
      "source": [
        "## Stretch goals:\n",
        "\n",
        "1. Write a summary of your findings, mixing prose and math/code/results. *Note* - yes, this is by definition a political topic. It is challenging but important to keep your writing voice *neutral* and stick to the facts of the data. Data science often involves considering controversial issues, so it's important to be sensitive about them (especially if you want to publish).\n",
        "2. Apply the techniques you learned today to your project data or other data of your choice, and write/discuss your findings here.\n",
        "3. Refactor your code so it is elegant, readable, and can be easily run for all issues."
      ]
    },
    {
      "cell_type": "markdown",
      "metadata": {
        "id": "nyJ3ySr7R2k9",
        "colab_type": "text"
      },
      "source": [
        "## Resources\n",
        "\n",
        "- [Interactive visualize the Chi-Squared test](https://homepage.divms.uiowa.edu/~mbognar/applets/chisq.html)\n",
        "- [Calculation of Chi-Squared test statistic](https://en.wikipedia.org/wiki/Pearson%27s_chi-squared_test)\n",
        "- [Visualization of a confidence interval generated by R code](https://commons.wikimedia.org/wiki/File:Confidence-interval.svg)\n",
        "- [Expected value of a squared standard normal](https://math.stackexchange.com/questions/264061/expected-value-calculation-for-squared-normal-distribution) (it's 1 - which is why the expected value of a Chi-Squared with $n$ degrees of freedom is $n$, as it's the sum of $n$ squared standard normals)"
      ]
    }
  ]
}